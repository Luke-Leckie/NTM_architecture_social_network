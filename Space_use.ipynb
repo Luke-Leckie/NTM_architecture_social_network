{
 "cells": [
  {
   "cell_type": "markdown",
   "id": "0363aa6c",
   "metadata": {},
   "source": [
    "# Data Analysis - (Social network and property calculator)\n",
    "### Enrico Gavagnin"
   ]
  },
  {
   "cell_type": "code",
   "execution_count": 1,
   "id": "0507d3b1",
   "metadata": {},
   "outputs": [],
   "source": [
    "import numpy as np\n",
    "import pandas as pd\n",
    "import matplotlib.pylab as plt\n",
    "import seaborn as sns\n",
    "import py_fort_myrmidon as fm\n",
    "import datetime\n",
    "import networkx as nx\n",
    "import networkx.algorithms.community as nxc\n",
    "import statistics\n",
    "import scipy.stats as stats\n",
    "import os\n",
    "from datetime import datetime, date, timedelta\n",
    "import pickle\n",
    "import warnings\n",
    "import json\n",
    "\n",
    "warnings.simplefilter(action='ignore', category=FutureWarning)"
   ]
  },
  {
   "cell_type": "code",
   "execution_count": 2,
   "id": "5791b2d5",
   "metadata": {},
   "outputs": [],
   "source": [
    "# Set working directory and open list of myrmidon files\n",
    "working_dir = '/media/ll16598/EG_DATA-7/NTM/'\n",
    "myrm_list = sorted([ s for s in os.listdir(working_dir) if s[15:17] == '_z'])\n",
    "myrm_list = [m for m in myrm_list if '_nn' in m]\n"
   ]
  },
  {
   "cell_type": "markdown",
   "id": "cec8911b",
   "metadata": {},
   "source": [
    "## Test mode (optional)\n",
    "\n",
    "To reduce the computational cost of the script, turn on the test mode option. This will run the analysis only on the first 2 myrmidon files. "
   ]
  },
  {
   "cell_type": "code",
   "execution_count": 3,
   "id": "225b7965",
   "metadata": {},
   "outputs": [],
   "source": [
    "test_mode = False\n",
    "#test_mode = True"
   ]
  },
  {
   "cell_type": "markdown",
   "id": "bb9d5ce9",
   "metadata": {},
   "source": [
    "## Home-range communities heatmap plotting"
   ]
  },
  {
   "cell_type": "markdown",
   "id": "c7d6f4b3",
   "metadata": {},
   "source": [
    "## Main script\n",
    "\n",
    "This script loops through all the myrmidon files. For each replicate it construct the social network, compute all the network properties and save them in a dataframe called prop_df."
   ]
  },
  {
   "cell_type": "code",
   "execution_count": 4,
   "id": "55b6a17d",
   "metadata": {},
   "outputs": [],
   "source": [
    "save_G=True\n",
    "save_df=False\n",
    "compute_props=False"
   ]
  },
  {
   "cell_type": "code",
   "execution_count": 5,
   "id": "60e76ed9",
   "metadata": {},
   "outputs": [],
   "source": [
    "from collections import Counter\n",
    "def compute_space_use(exp, start, end, min_cum_duration, frm_rate, link_type, nest_focus):\n",
    "    TimeToFrame = {fm.Time.ToTimestamp(frm[0].FrameTime): i + 1 \n",
    "               for i, frm in enumerate(fm.Query.CollideFrames(exp,start=start,end=end))}\n",
    "    zone_durations=[]\n",
    "    zone_ids=[]\n",
    "    zone_ant_ids=[]\n",
    "    zone_starts=[]\n",
    "    zone_ends=[]\n",
    "    #multilayer component. First necessary to compute trajectories\n",
    "    trajectories=fm.Query.ComputeAntTrajectories(exp, start=start,end=end, computeZones=True)\n",
    "    for t in range(0,len(trajectories)):\n",
    "        tr=trajectories[t]\n",
    "        ant_id=tr.Ant\n",
    "        pos=tr.Positions\n",
    "        t_start=tr.Start\n",
    "        duration=(tr.End()-tr.Start).Seconds()\n",
    "        #print(ant_id)\n",
    "        for i in range(0,len(pos)):\n",
    "            p=pos[i]\n",
    "            zone=p[4]\n",
    "            if zone==2:\n",
    "                continue\n",
    "            start=p[0]\n",
    "            e = pos[i+1][0] if i+1 < len(pos) else duration\n",
    "            length=e-start\n",
    "            zone_durations.append(length)\n",
    "            zone_ids.append(zone)\n",
    "            zone_ant_ids.append(ant_id)\n",
    "            try:\n",
    "                zone_starts.append(TimeToFrame[fm.Time.ToTimestamp(t_start+start)] )\n",
    "            except KeyError:\n",
    "                zone_starts.append(TimeToFrame[fm.Time.ToTimestamp(t_start)] )\n",
    "            zone_ends.append(TimeToFrame[fm.Time.ToTimestamp(t_start+length)] )\n",
    "    df = pd.DataFrame({\n",
    "    'zone_durations': zone_durations,\n",
    "    'zone_ids': zone_ids,\n",
    "    'zone_ant_ids': zone_ant_ids,\n",
    "    'zone_starts': zone_starts,\n",
    "    'zone_ends': zone_ends\n",
    "    })\n",
    "    return df\n"
   ]
  },
  {
   "cell_type": "code",
   "execution_count": 10,
   "id": "83ae2a0a",
   "metadata": {},
   "outputs": [],
   "source": [
    "complete_list = sorted([ s for s in os.listdir(working_dir+'space_use/')])"
   ]
  },
  {
   "cell_type": "code",
   "execution_count": 12,
   "id": "3f1a1234",
   "metadata": {},
   "outputs": [
    {
     "data": {
      "text/plain": [
       "'_3_22_EG_NTM_s34_DEHb_zones_luke_2023_nn.myrmidon_.csv'"
      ]
     },
     "execution_count": 12,
     "metadata": {},
     "output_type": "execute_result"
    }
   ],
   "source": [
    "str('_'+str(time_win_h)+'_'+str(tw + 1)+'_'+myrm_file+ \"_.csv\")"
   ]
  },
  {
   "cell_type": "code",
   "execution_count": 13,
   "id": "dfeb66ed",
   "metadata": {
    "scrolled": true
   },
   "outputs": [
    {
     "name": "stdout",
     "output_type": "stream",
     "text": [
      "EG_NTM_s13_DEHa_zones_luke_2023_nn.myrmidon\n",
      "Time_win:3h\n",
      "EG_NTM_s13_DEHb_zones_luke_2023_nn.myrmidon\n",
      "Time_win:3h\n",
      "EG_NTM_s14_MODa_zones_luke_2023_nn.myrmidon\n",
      "Time_win:3h\n",
      "EG_NTM_s14_MODb_zones_luke_2023_nn.myrmidon\n",
      "Time_win:3h\n",
      "EG_NTM_s15_DENa_zones_luke_2023_nn.myrmidon\n",
      "Time_win:3h\n",
      "EG_NTM_s15_DENb_zones_luke_2023_nn.myrmidon\n",
      "Time_win:3h\n",
      "EG_NTM_s16_DIAa_zones_luke_2023_nn.myrmidon\n",
      "Time_win:3h\n",
      "EG_NTM_s16_DIAb_zones_luke_2023_nn.myrmidon\n",
      "Time_win:3h\n",
      "EG_NTM_s17_MODa_zones_luke_2023_nn.myrmidon\n",
      "Time_win:3h\n",
      "EG_NTM_s17_MODb_zones_luke_2023_nn.myrmidon\n",
      "Time_win:3h\n",
      "EG_NTM_s18_DENa_zones_luke_2023_nn.myrmidon\n",
      "Time_win:3h\n",
      "EG_NTM_s18_DENb_zones_luke_2023_nn.myrmidon\n",
      "Time_win:3h\n",
      "EG_NTM_s19_DIAa_zones_luke_2023_nn.myrmidon\n",
      "Time_win:3h\n",
      "EG_NTM_s19_DIAb_zones_luke_2023_nn.myrmidon\n",
      "Time_win:3h\n",
      "EG_NTM_s20_DEHa_zones_luke_2023_nn.myrmidon\n",
      "Time_win:3h\n",
      "EG_NTM_s20_DEHb_zones_luke_2023_nn.myrmidon\n",
      "Time_win:3h\n",
      "EG_NTM_s21_DIAa_zones_luke_2023_nn.myrmidon\n",
      "Time_win:3h\n",
      "EG_NTM_s21_DIAb_zones_luke_2023_nn.myrmidon\n",
      "Time_win:3h\n",
      "EG_NTM_s22_MODa_zones_luke_2023_nn.myrmidon\n",
      "Time_win:3h\n",
      "EG_NTM_s22_MODb_zones_luke_2023_nn.myrmidon\n",
      "Time_win:3h\n",
      "EG_NTM_s23_DENa_zones_luke_2023_nn.myrmidon\n",
      "Time_win:3h\n",
      "EG_NTM_s23_DENb_zones_luke_2023_nn.myrmidon\n",
      "Time_win:3h\n",
      "EG_NTM_s24_DEHa_zones_luke_2023_nn.myrmidon\n",
      "Time_win:3h\n",
      "EG_NTM_s24_DEHb_zones_luke_2023_nn.myrmidon\n",
      "Time_win:3h\n",
      "EG_NTM_s25_DEHa_zones_luke_2023_nn.myrmidon\n",
      "Time_win:3h\n",
      "EG_NTM_s25_DEHb_zones_luke_2023_nn.myrmidon\n",
      "Time_win:3h\n",
      "EG_NTM_s26_DENa_zones_luke_2023_nn.myrmidon\n",
      "Time_win:3h\n",
      "EG_NTM_s26_DENb_zones_luke_2023_nn.myrmidon\n",
      "Time_win:3h\n",
      "EG_NTM_s27_MODa_zones_luke_2023_nn.myrmidon\n",
      "Time_win:3h\n",
      "EG_NTM_s27_MODb_zones_luke_2023_nn.myrmidon\n",
      "Time_win:3h\n",
      "EG_NTM_s28_DIAa_zones_luke_2023_nn.myrmidon\n",
      "Time_win:3h\n",
      "EG_NTM_s28_DIAb_zones_luke_2023_nn.myrmidon\n",
      "Time_win:3h\n",
      "EG_NTM_s29_DENa_zones_luke_2023_nn.myrmidon\n",
      "Time_win:3h\n",
      "EG_NTM_s29_DENb_zones_luke_2023_nn.myrmidon\n",
      "Time_win:3h\n",
      "EG_NTM_s30_MODa_zones_luke_2023_nn.myrmidon\n",
      "Time_win:3h\n",
      "EG_NTM_s30_MODb_zones_luke_2023_nn.myrmidon\n",
      "Time_win:3h\n",
      "EG_NTM_s31_DEHa_zones_luke_2023_nn.myrmidon\n",
      "Time_win:3h\n",
      "EG_NTM_s31_DEHb_zones_luke_2023_nn.myrmidon\n",
      "Time_win:3h\n",
      "EG_NTM_s32_DIAa_zones_luke_2023_nn.myrmidon\n",
      "Time_win:3h\n",
      "EG_NTM_s32_DIAb_zones_luke_2023_nn.myrmidon\n",
      "Time_win:3h\n",
      "EG_NTM_s33_MODa_zones_luke_2023_nn.myrmidon\n",
      "Time_win:3h\n",
      "EG_NTM_s33_MODb_zones_luke_2023_nn.myrmidon\n",
      "Time_win:3h\n",
      "EG_NTM_s34_DEHa_zones_luke_2023_nn.myrmidon\n",
      "Time_win:3h\n",
      "EG_NTM_s34_DEHb_zones_luke_2023_nn.myrmidon\n",
      "Time_win:3h\n",
      "EG_NTM_s35_DIAa_zones_luke_2023_nn.myrmidon\n",
      "Time_win:3h\n",
      "time_slot: #1"
     ]
    },
    {
     "name": "stderr",
     "output_type": "stream",
     "text": [
      "Colliding frames:  99%|█████████████▉| 179/180 [00:24<00:00,  7.34tracked min/s]\n",
      "Computing ant trajectories:  99%|███▉| 179/180 [00:05<00:00, 33.75tracked min/s]\n"
     ]
    },
    {
     "name": "stdout",
     "output_type": "stream",
     "text": [
      "\r",
      "time_slot: #4"
     ]
    },
    {
     "name": "stderr",
     "output_type": "stream",
     "text": [
      "Colliding frames:  99%|█████████████▉| 179/180 [00:05<00:00, 33.99tracked min/s]\n",
      "Computing ant trajectories:  99%|███▉| 179/180 [00:05<00:00, 33.32tracked min/s]\n"
     ]
    },
    {
     "name": "stdout",
     "output_type": "stream",
     "text": [
      "\r",
      "time_slot: #7"
     ]
    },
    {
     "name": "stderr",
     "output_type": "stream",
     "text": [
      "Colliding frames:  99%|█████████████▉| 179/180 [00:05<00:00, 32.46tracked min/s]\n",
      "Computing ant trajectories:  99%|███▉| 179/180 [00:05<00:00, 33.80tracked min/s]\n"
     ]
    },
    {
     "name": "stdout",
     "output_type": "stream",
     "text": [
      "\r",
      "time_slot: #10"
     ]
    },
    {
     "name": "stderr",
     "output_type": "stream",
     "text": [
      "Colliding frames:  99%|█████████████▉| 179/180 [00:05<00:00, 32.84tracked min/s]\n",
      "Computing ant trajectories:  99%|███▉| 179/180 [00:05<00:00, 33.92tracked min/s]\n"
     ]
    },
    {
     "name": "stdout",
     "output_type": "stream",
     "text": [
      "\r",
      "time_slot: #13"
     ]
    },
    {
     "name": "stderr",
     "output_type": "stream",
     "text": [
      "Colliding frames:  99%|█████████████▉| 179/180 [00:05<00:00, 32.62tracked min/s]\n",
      "Computing ant trajectories:  99%|███▉| 179/180 [00:05<00:00, 33.99tracked min/s]\n"
     ]
    },
    {
     "name": "stdout",
     "output_type": "stream",
     "text": [
      "\r",
      "time_slot: #16"
     ]
    },
    {
     "name": "stderr",
     "output_type": "stream",
     "text": [
      "Colliding frames:  99%|█████████████▉| 179/180 [00:05<00:00, 33.17tracked min/s]\n",
      "Computing ant trajectories:  99%|███▉| 179/180 [00:05<00:00, 33.78tracked min/s]\n"
     ]
    },
    {
     "name": "stdout",
     "output_type": "stream",
     "text": [
      "\r",
      "time_slot: #19"
     ]
    },
    {
     "name": "stderr",
     "output_type": "stream",
     "text": [
      "Colliding frames:  99%|█████████████▉| 179/180 [00:05<00:00, 31.72tracked min/s]\n",
      "Computing ant trajectories:  99%|███▉| 179/180 [00:05<00:00, 33.59tracked min/s]\n"
     ]
    },
    {
     "name": "stdout",
     "output_type": "stream",
     "text": [
      "\r",
      "time_slot: #22"
     ]
    },
    {
     "name": "stderr",
     "output_type": "stream",
     "text": [
      "Colliding frames:  99%|█████████████▉| 179/180 [00:06<00:00, 26.46tracked min/s]\n",
      "Computing ant trajectories:  99%|███▉| 179/180 [00:05<00:00, 33.98tracked min/s]\n"
     ]
    },
    {
     "name": "stdout",
     "output_type": "stream",
     "text": [
      "EG_NTM_s35_DIAb_zones_luke_2023_nn.myrmidon\n",
      "Time_win:3h\n",
      "\r",
      "time_slot: #1"
     ]
    },
    {
     "name": "stderr",
     "output_type": "stream",
     "text": [
      "Colliding frames:  99%|█████████████▉| 179/180 [00:05<00:00, 34.65tracked min/s]\n",
      "Computing ant trajectories:  99%|███▉| 179/180 [00:04<00:00, 36.15tracked min/s]\n"
     ]
    },
    {
     "name": "stdout",
     "output_type": "stream",
     "text": [
      "\r",
      "time_slot: #4"
     ]
    },
    {
     "name": "stderr",
     "output_type": "stream",
     "text": [
      "Colliding frames:  99%|█████████████▉| 179/180 [00:05<00:00, 35.35tracked min/s]\n",
      "Computing ant trajectories:  99%|███▉| 179/180 [00:04<00:00, 36.19tracked min/s]\n"
     ]
    },
    {
     "name": "stdout",
     "output_type": "stream",
     "text": [
      "\r",
      "time_slot: #7"
     ]
    },
    {
     "name": "stderr",
     "output_type": "stream",
     "text": [
      "Colliding frames:  99%|█████████████▉| 179/180 [00:04<00:00, 35.87tracked min/s]\n",
      "Computing ant trajectories:  99%|███▉| 179/180 [00:04<00:00, 36.91tracked min/s]\n"
     ]
    },
    {
     "name": "stdout",
     "output_type": "stream",
     "text": [
      "\r",
      "time_slot: #10"
     ]
    },
    {
     "name": "stderr",
     "output_type": "stream",
     "text": [
      "Colliding frames:  99%|█████████████▉| 179/180 [00:05<00:00, 32.35tracked min/s]\n",
      "Computing ant trajectories:  99%|███▉| 179/180 [00:04<00:00, 37.38tracked min/s]\n"
     ]
    },
    {
     "name": "stdout",
     "output_type": "stream",
     "text": [
      "\r",
      "time_slot: #13"
     ]
    },
    {
     "name": "stderr",
     "output_type": "stream",
     "text": [
      "Colliding frames:  99%|█████████████▉| 179/180 [00:04<00:00, 36.89tracked min/s]\n",
      "Computing ant trajectories: 100%|████| 180/180 [00:04<00:00, 37.44tracked min/s]\n"
     ]
    },
    {
     "name": "stdout",
     "output_type": "stream",
     "text": [
      "\r",
      "time_slot: #16"
     ]
    },
    {
     "name": "stderr",
     "output_type": "stream",
     "text": [
      "Colliding frames:  99%|█████████████▉| 179/180 [00:04<00:00, 36.05tracked min/s]\n",
      "Computing ant trajectories:  99%|███▉| 179/180 [00:04<00:00, 37.88tracked min/s]\n"
     ]
    },
    {
     "name": "stdout",
     "output_type": "stream",
     "text": [
      "\r",
      "time_slot: #19"
     ]
    },
    {
     "name": "stderr",
     "output_type": "stream",
     "text": [
      "Colliding frames:  99%|█████████████▉| 179/180 [00:05<00:00, 32.66tracked min/s]\n",
      "Computing ant trajectories:  99%|███▉| 179/180 [00:04<00:00, 37.84tracked min/s]\n"
     ]
    },
    {
     "name": "stdout",
     "output_type": "stream",
     "text": [
      "\r",
      "time_slot: #22"
     ]
    },
    {
     "name": "stderr",
     "output_type": "stream",
     "text": [
      "Colliding frames:  99%|█████████████▉| 179/180 [00:04<00:00, 36.19tracked min/s]\n",
      "Computing ant trajectories:  99%|███▉| 179/180 [00:04<00:00, 36.24tracked min/s]\n"
     ]
    },
    {
     "name": "stdout",
     "output_type": "stream",
     "text": [
      "EG_NTM_s36_DENa_zones_luke_2023_nn.myrmidon\n",
      "Time_win:3h\n",
      "\r",
      "time_slot: #1"
     ]
    },
    {
     "name": "stderr",
     "output_type": "stream",
     "text": [
      "Colliding frames:  99%|█████████████▉| 179/180 [00:03<00:00, 46.99tracked min/s]\n",
      "Computing ant trajectories:  99%|███▉| 179/180 [00:03<00:00, 45.60tracked min/s]\n"
     ]
    },
    {
     "name": "stdout",
     "output_type": "stream",
     "text": [
      "\r",
      "time_slot: #4"
     ]
    },
    {
     "name": "stderr",
     "output_type": "stream",
     "text": [
      "Colliding frames:  99%|█████████████▉| 179/180 [00:05<00:00, 32.81tracked min/s]\n",
      "Computing ant trajectories:  99%|███▉| 179/180 [00:05<00:00, 33.38tracked min/s]\n"
     ]
    },
    {
     "name": "stdout",
     "output_type": "stream",
     "text": [
      "\r",
      "time_slot: #7"
     ]
    },
    {
     "name": "stderr",
     "output_type": "stream",
     "text": [
      "Colliding frames:  99%|█████████████▉| 179/180 [00:05<00:00, 32.76tracked min/s]\n",
      "Computing ant trajectories:  99%|███▉| 179/180 [00:05<00:00, 33.15tracked min/s]\n"
     ]
    },
    {
     "name": "stdout",
     "output_type": "stream",
     "text": [
      "\r",
      "time_slot: #10"
     ]
    },
    {
     "name": "stderr",
     "output_type": "stream",
     "text": [
      "Colliding frames:  99%|█████████████▉| 179/180 [00:05<00:00, 33.66tracked min/s]\n",
      "Computing ant trajectories:  99%|███▉| 179/180 [00:05<00:00, 33.21tracked min/s]\n"
     ]
    },
    {
     "name": "stdout",
     "output_type": "stream",
     "text": [
      "\r",
      "time_slot: #13"
     ]
    },
    {
     "name": "stderr",
     "output_type": "stream",
     "text": [
      "Colliding frames:  99%|█████████████▉| 179/180 [00:05<00:00, 33.01tracked min/s]\n",
      "Computing ant trajectories:  99%|███▉| 179/180 [00:05<00:00, 33.65tracked min/s]\n"
     ]
    },
    {
     "name": "stdout",
     "output_type": "stream",
     "text": [
      "\r",
      "time_slot: #16"
     ]
    },
    {
     "name": "stderr",
     "output_type": "stream",
     "text": [
      "Colliding frames:  99%|█████████████▉| 179/180 [00:05<00:00, 33.92tracked min/s]\n",
      "Computing ant trajectories:  99%|███▉| 179/180 [00:05<00:00, 34.06tracked min/s]\n"
     ]
    },
    {
     "name": "stdout",
     "output_type": "stream",
     "text": [
      "\r",
      "time_slot: #19"
     ]
    },
    {
     "name": "stderr",
     "output_type": "stream",
     "text": [
      "Colliding frames:  99%|█████████████▉| 179/180 [00:05<00:00, 34.23tracked min/s]\n",
      "Computing ant trajectories:  99%|███▉| 179/180 [00:05<00:00, 33.85tracked min/s]\n"
     ]
    },
    {
     "name": "stdout",
     "output_type": "stream",
     "text": [
      "\r",
      "time_slot: #22"
     ]
    },
    {
     "name": "stderr",
     "output_type": "stream",
     "text": [
      "Colliding frames:  99%|█████████████▉| 179/180 [00:05<00:00, 33.12tracked min/s]\n",
      "Computing ant trajectories:  99%|███▉| 179/180 [00:05<00:00, 33.56tracked min/s]\n"
     ]
    },
    {
     "name": "stdout",
     "output_type": "stream",
     "text": [
      "EG_NTM_s36_DENb_zones_luke_2023_nn.myrmidon\n",
      "Time_win:3h\n",
      "\r",
      "time_slot: #1"
     ]
    },
    {
     "name": "stderr",
     "output_type": "stream",
     "text": [
      "Colliding frames:  99%|█████████████▉| 179/180 [00:05<00:00, 32.92tracked min/s]\n",
      "Computing ant trajectories:  99%|███▉| 179/180 [00:05<00:00, 33.39tracked min/s]\n"
     ]
    },
    {
     "name": "stdout",
     "output_type": "stream",
     "text": [
      "\r",
      "time_slot: #4"
     ]
    },
    {
     "name": "stderr",
     "output_type": "stream",
     "text": [
      "Colliding frames:  99%|█████████████▉| 179/180 [00:05<00:00, 32.75tracked min/s]\n",
      "Computing ant trajectories:  99%|███▉| 179/180 [00:05<00:00, 33.97tracked min/s]\n"
     ]
    },
    {
     "name": "stdout",
     "output_type": "stream",
     "text": [
      "\r",
      "time_slot: #7"
     ]
    },
    {
     "name": "stderr",
     "output_type": "stream",
     "text": [
      "Colliding frames:  99%|█████████████▉| 179/180 [00:05<00:00, 32.93tracked min/s]\n",
      "Computing ant trajectories:  99%|███▉| 179/180 [00:05<00:00, 33.25tracked min/s]\n"
     ]
    },
    {
     "name": "stdout",
     "output_type": "stream",
     "text": [
      "\r",
      "time_slot: #10"
     ]
    },
    {
     "name": "stderr",
     "output_type": "stream",
     "text": [
      "Colliding frames:  99%|█████████████▉| 179/180 [00:06<00:00, 28.64tracked min/s]\n",
      "Computing ant trajectories:  99%|███▉| 179/180 [00:05<00:00, 33.11tracked min/s]\n"
     ]
    },
    {
     "name": "stdout",
     "output_type": "stream",
     "text": [
      "\r",
      "time_slot: #13"
     ]
    },
    {
     "name": "stderr",
     "output_type": "stream",
     "text": [
      "Colliding frames:  99%|█████████████▉| 179/180 [00:05<00:00, 33.55tracked min/s]\n",
      "Computing ant trajectories:  99%|███▉| 179/180 [00:05<00:00, 34.57tracked min/s]\n"
     ]
    },
    {
     "name": "stdout",
     "output_type": "stream",
     "text": [
      "\r",
      "time_slot: #16"
     ]
    },
    {
     "name": "stderr",
     "output_type": "stream",
     "text": [
      "Colliding frames:  99%|█████████████▉| 179/180 [00:05<00:00, 33.72tracked min/s]\n",
      "Computing ant trajectories:  99%|███▉| 179/180 [00:05<00:00, 33.99tracked min/s]\n"
     ]
    },
    {
     "name": "stdout",
     "output_type": "stream",
     "text": [
      "\r",
      "time_slot: #19"
     ]
    },
    {
     "name": "stderr",
     "output_type": "stream",
     "text": [
      "Colliding frames:  99%|█████████████▉| 179/180 [00:05<00:00, 33.70tracked min/s]\n",
      "Computing ant trajectories:  99%|███▉| 179/180 [00:05<00:00, 33.55tracked min/s]\n"
     ]
    },
    {
     "name": "stdout",
     "output_type": "stream",
     "text": [
      "\r",
      "time_slot: #22"
     ]
    },
    {
     "name": "stderr",
     "output_type": "stream",
     "text": [
      "Colliding frames:  99%|█████████████▉| 179/180 [00:05<00:00, 33.83tracked min/s]\n",
      "Computing ant trajectories:  99%|███▉| 179/180 [00:05<00:00, 33.93tracked min/s]\n"
     ]
    },
    {
     "name": "stdout",
     "output_type": "stream",
     "text": [
      "EG_NTM_s37_DIAa_zones_luke_2023_nn.myrmidon\n",
      "Time_win:3h\n",
      "\r",
      "time_slot: #1"
     ]
    },
    {
     "name": "stderr",
     "output_type": "stream",
     "text": [
      "Colliding frames:  99%|█████████████▉| 179/180 [00:05<00:00, 30.54tracked min/s]\n",
      "Computing ant trajectories: 100%|████| 180/180 [00:05<00:00, 31.66tracked min/s]\n"
     ]
    },
    {
     "name": "stdout",
     "output_type": "stream",
     "text": [
      "\r",
      "time_slot: #4"
     ]
    },
    {
     "name": "stderr",
     "output_type": "stream",
     "text": [
      "Colliding frames:  99%|█████████████▉| 179/180 [00:05<00:00, 31.82tracked min/s]\n",
      "Computing ant trajectories:  99%|███▉| 179/180 [00:05<00:00, 31.77tracked min/s]\n"
     ]
    },
    {
     "name": "stdout",
     "output_type": "stream",
     "text": [
      "\r",
      "time_slot: #7"
     ]
    },
    {
     "name": "stderr",
     "output_type": "stream",
     "text": [
      "Colliding frames:  99%|█████████████▉| 179/180 [00:05<00:00, 31.03tracked min/s]\n",
      "Computing ant trajectories:  99%|███▉| 179/180 [00:05<00:00, 31.52tracked min/s]\n"
     ]
    },
    {
     "name": "stdout",
     "output_type": "stream",
     "text": [
      "\r",
      "time_slot: #10"
     ]
    },
    {
     "name": "stderr",
     "output_type": "stream",
     "text": [
      "Colliding frames:  99%|█████████████▉| 179/180 [00:06<00:00, 29.16tracked min/s]\n",
      "Computing ant trajectories: 100%|████| 180/180 [00:05<00:00, 31.52tracked min/s]\n"
     ]
    },
    {
     "name": "stdout",
     "output_type": "stream",
     "text": [
      "\r",
      "time_slot: #13"
     ]
    },
    {
     "name": "stderr",
     "output_type": "stream",
     "text": [
      "Colliding frames:  99%|█████████████▉| 179/180 [00:05<00:00, 30.83tracked min/s]\n",
      "Computing ant trajectories:  99%|███▉| 179/180 [00:05<00:00, 31.46tracked min/s]\n"
     ]
    },
    {
     "name": "stdout",
     "output_type": "stream",
     "text": [
      "\r",
      "time_slot: #16"
     ]
    },
    {
     "name": "stderr",
     "output_type": "stream",
     "text": [
      "Colliding frames:  99%|█████████████▉| 179/180 [00:06<00:00, 26.46tracked min/s]\n",
      "Computing ant trajectories:  99%|███▉| 179/180 [00:05<00:00, 31.40tracked min/s]\n"
     ]
    },
    {
     "name": "stdout",
     "output_type": "stream",
     "text": [
      "\r",
      "time_slot: #19"
     ]
    },
    {
     "name": "stderr",
     "output_type": "stream",
     "text": [
      "Colliding frames:  99%|█████████████▉| 179/180 [00:05<00:00, 31.21tracked min/s]\n",
      "Computing ant trajectories:  99%|███▉| 179/180 [00:05<00:00, 31.79tracked min/s]\n"
     ]
    },
    {
     "ename": "KeyboardInterrupt",
     "evalue": "",
     "output_type": "error",
     "traceback": [
      "\u001b[0;31m---------------------------------------------------------------------------\u001b[0m",
      "\u001b[0;31mKeyboardInterrupt\u001b[0m                         Traceback (most recent call last)",
      "Input \u001b[0;32mIn [13]\u001b[0m, in \u001b[0;36m<cell line: 39>\u001b[0;34m()\u001b[0m\n\u001b[1;32m     70\u001b[0m \u001b[38;5;66;03m# Compute network\u001b[39;00m\n\u001b[1;32m     71\u001b[0m         space_use \u001b[38;5;241m=\u001b[39m compute_space_use(exp, s, e, min_cum_duration, frm_rate, link_type, nest_focus\u001b[38;5;241m=\u001b[39mnest_focus)\n\u001b[0;32m---> 72\u001b[0m         \u001b[43mspace_use\u001b[49m\u001b[38;5;241;43m.\u001b[39;49m\u001b[43mto_csv\u001b[49m\u001b[43m(\u001b[49m\u001b[43mworking_dir\u001b[49m\u001b[38;5;241;43m+\u001b[39;49m\u001b[38;5;124;43m'\u001b[39;49m\u001b[38;5;124;43mspace_use/\u001b[39;49m\u001b[38;5;124;43m'\u001b[39;49m\u001b[38;5;241;43m+\u001b[39;49m\u001b[38;5;124;43m'\u001b[39;49m\u001b[38;5;124;43m_\u001b[39;49m\u001b[38;5;124;43m'\u001b[39;49m\u001b[38;5;241;43m+\u001b[39;49m\u001b[38;5;28;43mstr\u001b[39;49m\u001b[43m(\u001b[49m\u001b[43mtime_win_h\u001b[49m\u001b[43m)\u001b[49m\u001b[38;5;241;43m+\u001b[39;49m\u001b[38;5;124;43m'\u001b[39;49m\u001b[38;5;124;43m_\u001b[39;49m\u001b[38;5;124;43m'\u001b[39;49m\u001b[38;5;241;43m+\u001b[39;49m\u001b[38;5;28;43mstr\u001b[39;49m\u001b[43m(\u001b[49m\u001b[43mtw\u001b[49m\u001b[43m \u001b[49m\u001b[38;5;241;43m+\u001b[39;49m\u001b[43m \u001b[49m\u001b[38;5;241;43m1\u001b[39;49m\u001b[43m)\u001b[49m\u001b[38;5;241;43m+\u001b[39;49m\u001b[38;5;124;43m'\u001b[39;49m\u001b[38;5;124;43m_\u001b[39;49m\u001b[38;5;124;43m'\u001b[39;49m\u001b[38;5;241;43m+\u001b[39;49m\u001b[43mmyrm_file\u001b[49m\u001b[38;5;241;43m+\u001b[39;49m\u001b[43m \u001b[49m\u001b[38;5;124;43m\"\u001b[39;49m\u001b[38;5;124;43m_.csv\u001b[39;49m\u001b[38;5;124;43m\"\u001b[39;49m\u001b[43m)\u001b[49m\n",
      "File \u001b[0;32m~/.local/lib/python3.8/site-packages/pandas/core/generic.py:3772\u001b[0m, in \u001b[0;36mNDFrame.to_csv\u001b[0;34m(self, path_or_buf, sep, na_rep, float_format, columns, header, index, index_label, mode, encoding, compression, quoting, quotechar, lineterminator, chunksize, date_format, doublequote, escapechar, decimal, errors, storage_options)\u001b[0m\n\u001b[1;32m   3761\u001b[0m df \u001b[38;5;241m=\u001b[39m \u001b[38;5;28mself\u001b[39m \u001b[38;5;28;01mif\u001b[39;00m \u001b[38;5;28misinstance\u001b[39m(\u001b[38;5;28mself\u001b[39m, ABCDataFrame) \u001b[38;5;28;01melse\u001b[39;00m \u001b[38;5;28mself\u001b[39m\u001b[38;5;241m.\u001b[39mto_frame()\n\u001b[1;32m   3763\u001b[0m formatter \u001b[38;5;241m=\u001b[39m DataFrameFormatter(\n\u001b[1;32m   3764\u001b[0m     frame\u001b[38;5;241m=\u001b[39mdf,\n\u001b[1;32m   3765\u001b[0m     header\u001b[38;5;241m=\u001b[39mheader,\n\u001b[0;32m   (...)\u001b[0m\n\u001b[1;32m   3769\u001b[0m     decimal\u001b[38;5;241m=\u001b[39mdecimal,\n\u001b[1;32m   3770\u001b[0m )\n\u001b[0;32m-> 3772\u001b[0m \u001b[38;5;28;01mreturn\u001b[39;00m \u001b[43mDataFrameRenderer\u001b[49m\u001b[43m(\u001b[49m\u001b[43mformatter\u001b[49m\u001b[43m)\u001b[49m\u001b[38;5;241;43m.\u001b[39;49m\u001b[43mto_csv\u001b[49m\u001b[43m(\u001b[49m\n\u001b[1;32m   3773\u001b[0m \u001b[43m    \u001b[49m\u001b[43mpath_or_buf\u001b[49m\u001b[43m,\u001b[49m\n\u001b[1;32m   3774\u001b[0m \u001b[43m    \u001b[49m\u001b[43mlineterminator\u001b[49m\u001b[38;5;241;43m=\u001b[39;49m\u001b[43mlineterminator\u001b[49m\u001b[43m,\u001b[49m\n\u001b[1;32m   3775\u001b[0m \u001b[43m    \u001b[49m\u001b[43msep\u001b[49m\u001b[38;5;241;43m=\u001b[39;49m\u001b[43msep\u001b[49m\u001b[43m,\u001b[49m\n\u001b[1;32m   3776\u001b[0m \u001b[43m    \u001b[49m\u001b[43mencoding\u001b[49m\u001b[38;5;241;43m=\u001b[39;49m\u001b[43mencoding\u001b[49m\u001b[43m,\u001b[49m\n\u001b[1;32m   3777\u001b[0m \u001b[43m    \u001b[49m\u001b[43merrors\u001b[49m\u001b[38;5;241;43m=\u001b[39;49m\u001b[43merrors\u001b[49m\u001b[43m,\u001b[49m\n\u001b[1;32m   3778\u001b[0m \u001b[43m    \u001b[49m\u001b[43mcompression\u001b[49m\u001b[38;5;241;43m=\u001b[39;49m\u001b[43mcompression\u001b[49m\u001b[43m,\u001b[49m\n\u001b[1;32m   3779\u001b[0m \u001b[43m    \u001b[49m\u001b[43mquoting\u001b[49m\u001b[38;5;241;43m=\u001b[39;49m\u001b[43mquoting\u001b[49m\u001b[43m,\u001b[49m\n\u001b[1;32m   3780\u001b[0m \u001b[43m    \u001b[49m\u001b[43mcolumns\u001b[49m\u001b[38;5;241;43m=\u001b[39;49m\u001b[43mcolumns\u001b[49m\u001b[43m,\u001b[49m\n\u001b[1;32m   3781\u001b[0m \u001b[43m    \u001b[49m\u001b[43mindex_label\u001b[49m\u001b[38;5;241;43m=\u001b[39;49m\u001b[43mindex_label\u001b[49m\u001b[43m,\u001b[49m\n\u001b[1;32m   3782\u001b[0m \u001b[43m    \u001b[49m\u001b[43mmode\u001b[49m\u001b[38;5;241;43m=\u001b[39;49m\u001b[43mmode\u001b[49m\u001b[43m,\u001b[49m\n\u001b[1;32m   3783\u001b[0m \u001b[43m    \u001b[49m\u001b[43mchunksize\u001b[49m\u001b[38;5;241;43m=\u001b[39;49m\u001b[43mchunksize\u001b[49m\u001b[43m,\u001b[49m\n\u001b[1;32m   3784\u001b[0m \u001b[43m    \u001b[49m\u001b[43mquotechar\u001b[49m\u001b[38;5;241;43m=\u001b[39;49m\u001b[43mquotechar\u001b[49m\u001b[43m,\u001b[49m\n\u001b[1;32m   3785\u001b[0m \u001b[43m    \u001b[49m\u001b[43mdate_format\u001b[49m\u001b[38;5;241;43m=\u001b[39;49m\u001b[43mdate_format\u001b[49m\u001b[43m,\u001b[49m\n\u001b[1;32m   3786\u001b[0m \u001b[43m    \u001b[49m\u001b[43mdoublequote\u001b[49m\u001b[38;5;241;43m=\u001b[39;49m\u001b[43mdoublequote\u001b[49m\u001b[43m,\u001b[49m\n\u001b[1;32m   3787\u001b[0m \u001b[43m    \u001b[49m\u001b[43mescapechar\u001b[49m\u001b[38;5;241;43m=\u001b[39;49m\u001b[43mescapechar\u001b[49m\u001b[43m,\u001b[49m\n\u001b[1;32m   3788\u001b[0m \u001b[43m    \u001b[49m\u001b[43mstorage_options\u001b[49m\u001b[38;5;241;43m=\u001b[39;49m\u001b[43mstorage_options\u001b[49m\u001b[43m,\u001b[49m\n\u001b[1;32m   3789\u001b[0m \u001b[43m\u001b[49m\u001b[43m)\u001b[49m\n",
      "File \u001b[0;32m~/.local/lib/python3.8/site-packages/pandas/io/formats/format.py:1186\u001b[0m, in \u001b[0;36mDataFrameRenderer.to_csv\u001b[0;34m(self, path_or_buf, encoding, sep, columns, index_label, mode, compression, quoting, quotechar, lineterminator, chunksize, date_format, doublequote, escapechar, errors, storage_options)\u001b[0m\n\u001b[1;32m   1165\u001b[0m     created_buffer \u001b[38;5;241m=\u001b[39m \u001b[38;5;28;01mFalse\u001b[39;00m\n\u001b[1;32m   1167\u001b[0m csv_formatter \u001b[38;5;241m=\u001b[39m CSVFormatter(\n\u001b[1;32m   1168\u001b[0m     path_or_buf\u001b[38;5;241m=\u001b[39mpath_or_buf,\n\u001b[1;32m   1169\u001b[0m     lineterminator\u001b[38;5;241m=\u001b[39mlineterminator,\n\u001b[0;32m   (...)\u001b[0m\n\u001b[1;32m   1184\u001b[0m     formatter\u001b[38;5;241m=\u001b[39m\u001b[38;5;28mself\u001b[39m\u001b[38;5;241m.\u001b[39mfmt,\n\u001b[1;32m   1185\u001b[0m )\n\u001b[0;32m-> 1186\u001b[0m \u001b[43mcsv_formatter\u001b[49m\u001b[38;5;241;43m.\u001b[39;49m\u001b[43msave\u001b[49m\u001b[43m(\u001b[49m\u001b[43m)\u001b[49m\n\u001b[1;32m   1188\u001b[0m \u001b[38;5;28;01mif\u001b[39;00m created_buffer:\n\u001b[1;32m   1189\u001b[0m     \u001b[38;5;28;01massert\u001b[39;00m \u001b[38;5;28misinstance\u001b[39m(path_or_buf, StringIO)\n",
      "File \u001b[0;32m~/.local/lib/python3.8/site-packages/pandas/io/formats/csvs.py:259\u001b[0m, in \u001b[0;36mCSVFormatter.save\u001b[0;34m(self)\u001b[0m\n\u001b[1;32m    240\u001b[0m \u001b[38;5;28;01mwith\u001b[39;00m get_handle(\n\u001b[1;32m    241\u001b[0m     \u001b[38;5;28mself\u001b[39m\u001b[38;5;241m.\u001b[39mfilepath_or_buffer,\n\u001b[1;32m    242\u001b[0m     \u001b[38;5;28mself\u001b[39m\u001b[38;5;241m.\u001b[39mmode,\n\u001b[0;32m   (...)\u001b[0m\n\u001b[1;32m    247\u001b[0m ) \u001b[38;5;28;01mas\u001b[39;00m handles:\n\u001b[1;32m    248\u001b[0m     \u001b[38;5;66;03m# Note: self.encoding is irrelevant here\u001b[39;00m\n\u001b[1;32m    249\u001b[0m     \u001b[38;5;28mself\u001b[39m\u001b[38;5;241m.\u001b[39mwriter \u001b[38;5;241m=\u001b[39m csvlib\u001b[38;5;241m.\u001b[39mwriter(\n\u001b[1;32m    250\u001b[0m         handles\u001b[38;5;241m.\u001b[39mhandle,\n\u001b[1;32m    251\u001b[0m         lineterminator\u001b[38;5;241m=\u001b[39m\u001b[38;5;28mself\u001b[39m\u001b[38;5;241m.\u001b[39mlineterminator,\n\u001b[0;32m   (...)\u001b[0m\n\u001b[1;32m    256\u001b[0m         quotechar\u001b[38;5;241m=\u001b[39m\u001b[38;5;28mself\u001b[39m\u001b[38;5;241m.\u001b[39mquotechar,\n\u001b[1;32m    257\u001b[0m     )\n\u001b[0;32m--> 259\u001b[0m     \u001b[38;5;28;43mself\u001b[39;49m\u001b[38;5;241;43m.\u001b[39;49m\u001b[43m_save\u001b[49m\u001b[43m(\u001b[49m\u001b[43m)\u001b[49m\n",
      "File \u001b[0;32m~/.local/lib/python3.8/site-packages/pandas/io/formats/csvs.py:264\u001b[0m, in \u001b[0;36mCSVFormatter._save\u001b[0;34m(self)\u001b[0m\n\u001b[1;32m    262\u001b[0m \u001b[38;5;28;01mif\u001b[39;00m \u001b[38;5;28mself\u001b[39m\u001b[38;5;241m.\u001b[39m_need_to_save_header:\n\u001b[1;32m    263\u001b[0m     \u001b[38;5;28mself\u001b[39m\u001b[38;5;241m.\u001b[39m_save_header()\n\u001b[0;32m--> 264\u001b[0m \u001b[38;5;28;43mself\u001b[39;49m\u001b[38;5;241;43m.\u001b[39;49m\u001b[43m_save_body\u001b[49m\u001b[43m(\u001b[49m\u001b[43m)\u001b[49m\n",
      "File \u001b[0;32m~/.local/lib/python3.8/site-packages/pandas/io/formats/csvs.py:302\u001b[0m, in \u001b[0;36mCSVFormatter._save_body\u001b[0;34m(self)\u001b[0m\n\u001b[1;32m    300\u001b[0m \u001b[38;5;28;01mif\u001b[39;00m start_i \u001b[38;5;241m>\u001b[39m\u001b[38;5;241m=\u001b[39m end_i:\n\u001b[1;32m    301\u001b[0m     \u001b[38;5;28;01mbreak\u001b[39;00m\n\u001b[0;32m--> 302\u001b[0m \u001b[38;5;28;43mself\u001b[39;49m\u001b[38;5;241;43m.\u001b[39;49m\u001b[43m_save_chunk\u001b[49m\u001b[43m(\u001b[49m\u001b[43mstart_i\u001b[49m\u001b[43m,\u001b[49m\u001b[43m \u001b[49m\u001b[43mend_i\u001b[49m\u001b[43m)\u001b[49m\n",
      "File \u001b[0;32m~/.local/lib/python3.8/site-packages/pandas/io/formats/csvs.py:313\u001b[0m, in \u001b[0;36mCSVFormatter._save_chunk\u001b[0;34m(self, start_i, end_i)\u001b[0m\n\u001b[1;32m    310\u001b[0m data \u001b[38;5;241m=\u001b[39m [res\u001b[38;5;241m.\u001b[39miget_values(i) \u001b[38;5;28;01mfor\u001b[39;00m i \u001b[38;5;129;01min\u001b[39;00m \u001b[38;5;28mrange\u001b[39m(\u001b[38;5;28mlen\u001b[39m(res\u001b[38;5;241m.\u001b[39mitems))]\n\u001b[1;32m    312\u001b[0m ix \u001b[38;5;241m=\u001b[39m \u001b[38;5;28mself\u001b[39m\u001b[38;5;241m.\u001b[39mdata_index[slicer]\u001b[38;5;241m.\u001b[39m_format_native_types(\u001b[38;5;241m*\u001b[39m\u001b[38;5;241m*\u001b[39m\u001b[38;5;28mself\u001b[39m\u001b[38;5;241m.\u001b[39m_number_format)\n\u001b[0;32m--> 313\u001b[0m \u001b[43mlibwriters\u001b[49m\u001b[38;5;241;43m.\u001b[39;49m\u001b[43mwrite_csv_rows\u001b[49m\u001b[43m(\u001b[49m\n\u001b[1;32m    314\u001b[0m \u001b[43m    \u001b[49m\u001b[43mdata\u001b[49m\u001b[43m,\u001b[49m\n\u001b[1;32m    315\u001b[0m \u001b[43m    \u001b[49m\u001b[43mix\u001b[49m\u001b[43m,\u001b[49m\n\u001b[1;32m    316\u001b[0m \u001b[43m    \u001b[49m\u001b[38;5;28;43mself\u001b[39;49m\u001b[38;5;241;43m.\u001b[39;49m\u001b[43mnlevels\u001b[49m\u001b[43m,\u001b[49m\n\u001b[1;32m    317\u001b[0m \u001b[43m    \u001b[49m\u001b[38;5;28;43mself\u001b[39;49m\u001b[38;5;241;43m.\u001b[39;49m\u001b[43mcols\u001b[49m\u001b[43m,\u001b[49m\n\u001b[1;32m    318\u001b[0m \u001b[43m    \u001b[49m\u001b[38;5;28;43mself\u001b[39;49m\u001b[38;5;241;43m.\u001b[39;49m\u001b[43mwriter\u001b[49m\u001b[43m,\u001b[49m\n\u001b[1;32m    319\u001b[0m \u001b[43m\u001b[49m\u001b[43m)\u001b[49m\n",
      "File \u001b[0;32m~/.local/lib/python3.8/site-packages/pandas/_libs/writers.pyx:55\u001b[0m, in \u001b[0;36mpandas._libs.writers.write_csv_rows\u001b[0;34m()\u001b[0m\n",
      "\u001b[0;31mKeyboardInterrupt\u001b[0m: "
     ]
    }
   ],
   "source": [
    "## ========= PARAMETERS========= \n",
    "# Frame rate\n",
    "frm_rate = 6\n",
    "\n",
    "# max gap for different interactions (s)\n",
    "max_gap = 10\n",
    "\n",
    "# minimum interaction weight (OPTIONAL, set=0 if not wanted)\n",
    "min_cum_duration = 0 \n",
    "\n",
    "# Read file with modes of communities number computed   \n",
    "if compute_props==True:\n",
    "    mode_communities_dic = pd.read_pickle(r'data/mode_communities.pkl')\n",
    "\n",
    "# ========= Edges weights type ==========\n",
    "# Decide what type of weight for the edges of the social network \n",
    "#     'length_inter': cumulative interaction time (s))    \n",
    "#     '#inter': number of interactions    \n",
    "\n",
    "link_type = '#inter'\n",
    "\n",
    "# ========= Nest focus zone ==========\n",
    "# Set weather to only consider interactions happening within the nest zone\n",
    "#     'True': Nest only\n",
    "#     'False': All interactions considered\n",
    "nest_focus = True\n",
    "#how long to compute space use over\n",
    "hours_g=24\n",
    "\n",
    "data_saving_name = 'data/polish_data_test' + link_type + '_NF_F.pkl'\n",
    "\n",
    "\n",
    "if test_mode:\n",
    "    myrm_list = myrm_list[20:24]\n",
    "\n",
    "    \n",
    "working_dir+'space_use/'+'_'+str(time_win_h)+'_'+str(tw + 1)+'_'+myrm_file+ \"_.csv\"\n",
    "# Loop through the myrmidon files\n",
    "for myrm_file in myrm_list:\n",
    "\n",
    "    # Skip replicate 41 (major escape), and all the replicates of the first 3 blocs (different tag orientation)\n",
    "    if int(myrm_file[8:10])==41 or int(myrm_file[8:10])<13: \n",
    "        continue\n",
    "\n",
    "    print(myrm_file)\n",
    "\n",
    "    # Open experiment file\n",
    "    exp = fm.Experiment.Open(working_dir + myrm_file)\n",
    "\n",
    "    \n",
    "    # Read the start date of the time window to be considered for the analysis\n",
    "    # (ie the day before the experiment has been terminated)\n",
    "    start_date = (fm.Time.ToDateTime(fm.Query.GetDataInformations(exp).End) +\n",
    "                 timedelta(days = -1)).strftime(\"%Y-%m-%d\")\n",
    "    # Compute start/end of the time window\n",
    "    start = fm.Time(datetime.fromisoformat(start_date + 'T09:00:00'))  \n",
    "    end = start.Add(fm.Duration(60 * 60 * hours_g * 10**9))\n",
    "    for time_win_h in [3]:\n",
    "\n",
    "        print('Time_win:' + str (time_win_h) + 'h')\n",
    "        # Loop through non-overlapping time windows of the given length\n",
    "        for tw in range(0,25 - time_win_h, time_win_h):#\n",
    "            if str('_'+str(time_win_h)+'_'+str(tw + 1)+'_'+myrm_file+ \"_.csv\") in complete_list:\n",
    "                continue\n",
    "            print('\\rtime_slot: #' + str(tw + 1), end=\"\")\n",
    "            \n",
    "            # Compute start/end of the time window\n",
    "            s = start.Add(fm.Duration(tw * 60**2 * 10**9))\n",
    "            e = start.Add(fm.Duration((tw + time_win_h) * 60**2 * 10**9))\n",
    "    # Compute network\n",
    "            space_use = compute_space_use(exp, s, e, min_cum_duration, frm_rate, link_type, nest_focus=nest_focus)\n",
    "            space_use.to_csv(working_dir+'space_use/'+'_'+str(time_win_h)+'_'+str(tw + 1)+'_'+myrm_file+ \"_.csv\")\n",
    "\n"
   ]
  },
  {
   "cell_type": "markdown",
   "id": "7910adb9",
   "metadata": {},
   "source": [
    "I now have multilayer networks where the zone attribute is the duration ant has spent in zone. Next to get the rate of switching and max density I need to get a df with the number of ants in a given zone at a time. I could get heatmap entropy also. And I could get number of interactions at a given time - although can be done with the temporal"
   ]
  },
  {
   "cell_type": "code",
   "execution_count": 8,
   "id": "32e22376",
   "metadata": {},
   "outputs": [],
   "source": [
    "            space_use.to_csv(working_dir+'space_use/'+'_'+str(time_win_h)+'_'+str(tw + 1)+myrm_file+ \"_.csv\")\n"
   ]
  },
  {
   "cell_type": "markdown",
   "id": "fc51599f",
   "metadata": {},
   "source": [
    "## Computing mode of communitites\n",
    "This script compute the mode of the number of communities abtained with unsupervised greedy algorithm and save the result in a file called mode_communities.pkl"
   ]
  },
  {
   "cell_type": "code",
   "execution_count": null,
   "id": "3bdde091",
   "metadata": {
    "code_folding": [
     0
    ]
   },
   "outputs": [],
   "source": [
    "# Mode of communities number with greedy algorithm \n",
    "\n",
    "# ========== FILTERING ============\n",
    "reps_discarded = [20,41]\n",
    "mode_communities_dic = {}\n",
    "\n",
    "for data_file_name in ['data/prop_data_12_6_4_3_2_1_#inter_nest_21042022.pkl']:\n",
    "\n",
    "    df = pd.read_pickle(data_file_name)\n",
    "    \n",
    "    if '_#inter_' in data_file_name:\n",
    "        link_type = '#inter'\n",
    "    elif '_length_inter_'in data_file_name:\n",
    "        link_type = 'length_inter'\n",
    "    \n",
    "    mode_communities_dic[link_type] = {}\n",
    "\n",
    "    for exp in ['MOD', 'DIA', 'DEN', 'DEH']:\n",
    "        mode_communities_dic[link_type][exp] = {}\n",
    "        \n",
    "        for time_win in [1, 2, 3, 4, 6, 12]:\n",
    "            \n",
    "            df_filt = df.loc[(df.time_win==3600 * time_win) &  \n",
    "                            (df.exp.isin([exp+'a',exp+'b'])) & \n",
    "                            (~df.rep.isin(reps_discarded))]\n",
    "            \n",
    "            mode_communities_dic[link_type][exp][time_win * 3600] = stats.mode([len(com) for com in df_filt.cMOD_communities]).mode[0]\n",
    "            \n",
    "a_file = open('data/mode_communities.pkl', \"wb\")\n",
    "pickle.dump(mode_communities_dic, a_file)"
   ]
  },
  {
   "cell_type": "markdown",
   "id": "7222afa7",
   "metadata": {},
   "source": [
    "## Connectivity Analysis\n",
    "\n",
    "This script contains an auxiliary function which compute the size of the largest connected component as a funciton of the size time window of aggregation (Percolation analysis) \n",
    "\n",
    "NOT WELL DOCUMENTED"
   ]
  },
  {
   "cell_type": "code",
   "execution_count": null,
   "id": "d45b9003",
   "metadata": {
    "code_folding": [
     0
    ],
    "scrolled": true
   },
   "outputs": [],
   "source": [
    "# Time vs Connectivity\n",
    "\n",
    "def compute_Gcc(exp, start, end):\n",
    "    \n",
    "    # Number of ants\n",
    "    N_ants = len(exp.Ants)    \n",
    "\n",
    "    # initialise adj-matrix\n",
    "    adj_mat = np.zeros((N_ants, N_ants))\n",
    "    \n",
    "    Gcc = [[sorted(nx.connected_components(nx.Graph(adj_mat)), key=len, reverse=True)],\n",
    "           [0]]\n",
    "\n",
    "    # Populate network\n",
    "    for i in fm.Query.ComputeAntInteractions(exp,start=start,end=end,maximumGap=fm.Duration(max_gap*10**9),\n",
    "                                            reportFullTrajectories= False)[1]:\n",
    "        # Focus on Nest zone (id=1)\n",
    "        if (1 in i.Trajectories[1].Zones) & (adj_mat[i.IDs[0]-1, i.IDs[1]-1] == 0):\n",
    "            \n",
    "            adj_mat[i.IDs[0]-1, i.IDs[1]-1] = 1           \n",
    "         \n",
    "            if i.Start.After(start.Add(fm.Duration((Gcc[1][-1] + 1) * 10**9))):\n",
    "    \n",
    "                Gcc[0].append(sorted(nx.connected_components(nx.Graph(adj_mat)), key=len, reverse=True))\n",
    "                Gcc[1].append(Gcc[1][-1] + 1)\n",
    "                    \n",
    "    # network build\n",
    "    return   Gcc\n",
    "\n",
    "## ============= LOOP MYRMIDON =============== \n",
    "\n",
    "Gcc_df = pd.DataFrame(columns=['rep', 'exp', 'Gcc'])\n",
    "max_gap = 10\n",
    "for myrm_file in myrm_list:\n",
    "\n",
    "    if int(myrm_file[8:10])==41 or int(myrm_file[8:10])<13: \n",
    "        continue\n",
    "\n",
    "    print(myrm_file)\n",
    "\n",
    "    # Open experiment file\n",
    "    exp = fm.Experiment.Open(working_dir + myrm_file)\n",
    "\n",
    "    ## ------ Time window ------ \n",
    "    start_date = (fm.Time.ToDateTime(fm.Query.GetDataInformations(exp).End) +\n",
    "                 timedelta(days = -1)).strftime(\"%Y-%m-%d\")\n",
    "\n",
    "    start_time = fm.Time(datetime.fromisoformat(start_date + 'T09:00:00'))  \n",
    "    Gcc = compute_Gcc(exp,start_time,start_time.Add(fm.Duration(12 * 60 * 60 * 10**9)))\n",
    "    Gcc_df = Gcc_df.append({'rep': int(myrm_file[8:10]), 'exp': myrm_file[11:15], 'Gcc': Gcc}, ignore_index=True)\n",
    "    \n",
    "# Save\n",
    "a_file = open(\"data/Gcc_NEST.pkl\", \"wb\")\n",
    "pickle.dump(Gcc_df, a_file)\n",
    "a_file.close()\n"
   ]
  },
  {
   "cell_type": "code",
   "execution_count": null,
   "id": "27d5fb7a",
   "metadata": {},
   "outputs": [],
   "source": [
    "\n",
    "plot_fld_path = 'plots/Connectivity_analysis/'\n",
    "\n",
    "\n",
    "for exp in ['DIA', 'MOD', 'DEH', 'DEN']:\n",
    "    \n",
    "    # Reading dataframe of connectivity\n",
    "    Gcc_df = pd.read_pickle('data/Gcc_NEST.pkl')\n",
    "\n",
    "    \n",
    "    #Filter for the experiement of interest\n",
    "    Gcc_df = Gcc_df[Gcc_df.rep != 20]\n",
    "    Gcc_df = Gcc_df[[e[0:3] == exp for e in Gcc_df.exp]]\n",
    "    Gcc_df.sort_values(['rep','exp'])\n",
    "    connect_df = pd.DataFrame(columns=['rep', 'nest', 'time (min)', 'size_GCC', '#CC'])\n",
    "\n",
    "    # treshold minimal partition size\n",
    "    tresh_part = 2\n",
    "\n",
    "    # Reformatting dataframe\n",
    "    for row in range(len(Gcc_df)):\n",
    "        df_aux = pd.DataFrame({'rep': [Gcc_df.rep.iloc[row]] * len(Gcc_df.Gcc.iloc[row][0]),\n",
    "                              'nest': [Gcc_df.exp.iloc[row]] * len(Gcc_df.Gcc.iloc[row][0]),\n",
    "                              'time (min)': Gcc_df.Gcc.iloc[row][1],\n",
    "                              'size_GCC': [len(cc[0]) for cc in Gcc_df.Gcc.iloc[row][0]],\n",
    "                              '#CC': [sum([len(p) > tresh_part for p in cc]) for cc in Gcc_df.Gcc.iloc[row][0]]})\n",
    "        connect_df = pd.concat([connect_df, df_aux], ignore_index=True)\n",
    "\n",
    "    # Plotting    \n",
    "    sns.set(font_scale = 1.1)\n",
    "    fig, axs = plt.subplots(1, 1, figsize=(15,10))\n",
    "    title = 'Connectivity_exp_' + exp + ', reps: ' + str(int(len(Gcc_df)/2)) \n",
    "    supt = plt.suptitle(title, fontweight=\"bold\")\n",
    "    # Plot 1 (size GCC)\n",
    "    sns.lineplot(data=connect_df, x=\"time (min)\", y=\"size_GCC\", hue=\"nest\", ax=axs)\n",
    "    axs.set_title('Size connected component')\n",
    "    plt.tight_layout()\n",
    "    axs_i_r = axs.inset_axes([0.6,0.1,0.35,0.4])\n",
    "\n",
    "    # Plot 1 (number CC)\n",
    "    sns.lineplot(data=connect_df, x=\"time (min)\", y=\"#CC\", hue=\"nest\", ax=axs_i_r)\n",
    "    axs_i_r.set_title('Number of connected components of size > ' + str(tresh_part))\n",
    "    axs_i_r.set_xlim([1,40])\n",
    "    axs_i_r.set_ylim(bottom=1)\n",
    "    plt.tight_layout()\n",
    "\n",
    "    # ====================================\n",
    "    # Difference in size of GCC\n",
    "    diff_connect_df = pd.DataFrame(columns=['rep', 'time (min)', 'diff_GCC'])\n",
    "\n",
    "    def diff_list_GCC(A, B):\n",
    "        A_len = [len(a) for a in A]\n",
    "        B_len = [len(b) for b in B]\n",
    "        return [A_len[i] - B_len[i] for i in range(min(len(A), len(B)))]\n",
    "\n",
    "    # Reformatting dataframe\n",
    "    for row in range(0, len(Gcc_df) -1, 2):\n",
    "        diff_GCC = diff_list_GCC(Gcc_df.Gcc.iloc[row][0], Gcc_df.Gcc.iloc[row + 1][0])\n",
    "        df_aux = pd.DataFrame({'rep': [Gcc_df.rep.iloc[row]] * len(diff_GCC),\n",
    "                              'time (min)': range(len(diff_GCC)),\n",
    "                              'diff_GCC': diff_GCC})\n",
    "        diff_connect_df = pd.concat([diff_connect_df, df_aux], ignore_index=True)\n",
    "\n",
    "    # Plotting    \n",
    "    # Plot 3 (diff size GCC)\n",
    "    axs_i_l = axs.inset_axes([0.2,0.1,0.35,0.4])\n",
    "    sns.lineplot(data=diff_connect_df, x=\"time (min)\", y=\"diff_GCC\", ax=axs_i_l)\n",
    "    axs_i_l.plot([0, 720], [0, 0], ':r')\n",
    "    axs_i_l.set_title('Difference in size of connected component (' + Gcc_df.exp.iloc[0] + ' - ' + Gcc_df.exp.iloc[1] + ')')\n",
    "    plt.tight_layout()\n",
    "\n",
    "    file_name = 'Connectivity_exp_' + exp \n",
    "\n",
    "    #Savefig\n",
    "    plt.savefig(plot_fld_path + file_name + '.png', facecolor='white', transparent=False)\n",
    "\n"
   ]
  }
 ],
 "metadata": {
  "kernelspec": {
   "display_name": "Python 3 (ipykernel)",
   "language": "python",
   "name": "python3"
  },
  "language_info": {
   "codemirror_mode": {
    "name": "ipython",
    "version": 3
   },
   "file_extension": ".py",
   "mimetype": "text/x-python",
   "name": "python",
   "nbconvert_exporter": "python",
   "pygments_lexer": "ipython3",
   "version": "3.8.13"
  }
 },
 "nbformat": 4,
 "nbformat_minor": 5
}
