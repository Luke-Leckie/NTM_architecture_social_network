{
 "cells": [
  {
   "cell_type": "code",
   "execution_count": 1,
   "id": "941e2e06",
   "metadata": {},
   "outputs": [],
   "source": [
    "import numpy as np\n",
    "import pandas as pd\n",
    "import matplotlib.pylab as plt\n",
    "import seaborn as sns\n",
    "import py_fort_myrmidon as fm\n",
    "import datetime\n",
    "import networkx as nx\n",
    "import networkx.algorithms.community as nxc\n",
    "import statistics\n",
    "import scipy.stats as stats\n",
    "import os\n",
    "from datetime import datetime, date, timedelta\n",
    "import pickle\n",
    "import warnings\n",
    "import json\n",
    "warnings.simplefilter(action='ignore', category=FutureWarning)"
   ]
  },
  {
   "cell_type": "code",
   "execution_count": 2,
   "id": "6b8f9d7f",
   "metadata": {},
   "outputs": [],
   "source": [
    "# Set working directory and open list of myrmidon files\n",
    "\n",
    "working_dir = '/media/ll16598/EG_DATA-7/NTM/'\n",
    "myrm_list = sorted([ s for s in os.listdir(working_dir) if s[15:17] == '_z'])"
   ]
  },
  {
   "cell_type": "code",
   "execution_count": 3,
   "id": "810f94e2",
   "metadata": {},
   "outputs": [],
   "source": [
    "myrm_list = [m for m in myrm_list if '_nn' in m]\n"
   ]
  },
  {
   "cell_type": "markdown",
   "id": "f9707b1f",
   "metadata": {},
   "source": [
    "## Test mode (optional)\n",
    "\n",
    "To reduce the computational cost of the script, turn on the test mode option. This will run the analysis only on the first 2 myrmidon files. "
   ]
  },
  {
   "cell_type": "code",
   "execution_count": 4,
   "id": "cf28ff93",
   "metadata": {},
   "outputs": [],
   "source": [
    "test_mode = False\n",
    "#test_mode = True"
   ]
  },
  {
   "cell_type": "code",
   "execution_count": 5,
   "id": "77f3567b",
   "metadata": {},
   "outputs": [],
   "source": [
    "# class Interaction:\n",
    "#     def __init__(self, duration, zone, start, end):\n",
    "#         self.duration = duration\n",
    "#         self.zone = zone\n",
    "#         self.start = start\n",
    "#         self.end = end\n",
    "\n",
    "#     def __repr__(self):\n",
    "#         return f\"Duration: {self.duration}, Zone: {self.zone}, Start: {self.start}, End: {self.end}\"\n",
    "\n",
    "\n",
    "class Interaction:\n",
    "    def __init__(self, duration, zone, start, end):\n",
    "        self.duration = duration\n",
    "        self.zone = zone\n",
    "        self.start = start\n",
    "        self.end = end\n",
    "\n",
    "    def to_dict(self):\n",
    "        return {\n",
    "            'duration': self.duration,\n",
    "            'zone': self.zone,\n",
    "            'start': self.start,\n",
    "            'end': self.end\n",
    "        }\n",
    "\n",
    "    def __repr__(self):\n",
    "        return f\"Duration: {self.duration}, Zone: {self.zone}, Start: {self.start}, End: {self.end}\"\n",
    "\n",
    "    \n",
    "def temporal_network(exp, start, end,min_cum_duration, frm_rate, link_type, nest_focus, save=False):\n",
    "    ant_id1=[]\n",
    "    ant_id2=[]\n",
    "    durations=[]\n",
    "    zones=[]\n",
    "    time_start=[]\n",
    "    time_end=[]\n",
    "    interaction_list=[]\n",
    "    interactions=fm.Query.ComputeAntInteractions(exp, start=start, end=end, maximumGap=fm.Duration(max_gap*10**9),\n",
    "                                             reportFullTrajectories= False)[1]\n",
    "    \n",
    "    TimeToFrame = {fm.Time.ToTimestamp(frm[0].FrameTime): i + 1 \n",
    "               for i, frm in enumerate(fm.Query.CollideFrames(exp,start=start,end=end))}\n",
    "    for i in interactions:\n",
    "        zone1=tuple(i.Trajectories[1].Zones)[0]\n",
    "        try:\n",
    "            zone2=tuple(i.Trajectories[1].Zones)[1]\n",
    "            zone=zone2\n",
    "        except IndexError:\n",
    "            zone=zone1\n",
    "        \n",
    "        #zone 2 is the arena\n",
    "        if nest_focus and zone1==2:\n",
    "            continue\n",
    "        if link_type == 'length_inter':\n",
    "        # WEIGHTS: cumulative interaction time (s)\n",
    "            weight=(TimeToFrame[fm.Time.ToTimestamp(i.End)] - \\\n",
    "                                                TimeToFrame[fm.Time.ToTimestamp(i.Start)]) * 1\\\n",
    "            / frm_rate\n",
    "        elif link_type == '#inter':\n",
    "            weight=1\n",
    "        ant_id1.append(i.IDs[0])\n",
    "        ant_id2.append(i.IDs[1])\n",
    "        durations.append(weight)\n",
    "        zones.append(zone)\n",
    "        time_start.append(TimeToFrame[fm.Time.ToTimestamp(i.Start)] )\n",
    "        time_end.append(TimeToFrame[fm.Time.ToTimestamp(i.End)] )\n",
    "        interaction_list.append(tuple([i.IDs[0], i.IDs[1], weight, zone]))\n",
    "\n",
    "    # transform into temporal network\n",
    "    G = nx.MultiGraph()\n",
    "\n",
    "    # Add nodes and edges\n",
    "    for i in range(len(ant_id1)):\n",
    "        G.add_node(ant_id1[i])\n",
    "        G.add_node(ant_id2[i])\n",
    "        interaction = Interaction(durations[i], zones[i], time_start[i], time_end[i])\n",
    "        G.add_edge(ant_id1[i], ant_id2[i], interaction=json.dumps(interaction.to_dict()))\n",
    "    for node in G.nodes():\n",
    "        G.nodes[node]['pathogen_load'] = 0\n",
    "        \n",
    "    df = pd.DataFrame({\n",
    "    'ant_id1': ant_id1,\n",
    "    'ant_id2': ant_id2,\n",
    "    'durations': durations,\n",
    "    'zones': zones,\n",
    "    'time_start': time_start,\n",
    "    'time_end': time_end\n",
    "    })\n",
    "    return G, df"
   ]
  },
  {
   "cell_type": "code",
   "execution_count": 8,
   "id": "bdffe967",
   "metadata": {},
   "outputs": [
    {
     "name": "stdout",
     "output_type": "stream",
     "text": [
      "EG_NTM_s13_DEHa_zones_luke_2023_nn.myrmidon\n"
     ]
    },
    {
     "name": "stderr",
     "output_type": "stream",
     "text": [
      "Computing ant interactions: 100%|█▉| 1439/1440 [00:34<00:00, 42.00tracked min/s]\n",
      "Colliding frames: 100%|███████████▉| 1439/1440 [00:35<00:00, 40.88tracked min/s]\n"
     ]
    },
    {
     "name": "stdout",
     "output_type": "stream",
     "text": [
      "EG_NTM_s13_DEHb_zones_luke_2023_nn.myrmidon\n"
     ]
    },
    {
     "name": "stderr",
     "output_type": "stream",
     "text": [
      "Computing ant interactions: 100%|█▉| 1439/1440 [00:38<00:00, 37.56tracked min/s]\n",
      "Colliding frames: 100%|███████████▉| 1439/1440 [00:37<00:00, 38.76tracked min/s]\n"
     ]
    },
    {
     "name": "stdout",
     "output_type": "stream",
     "text": [
      "EG_NTM_s14_MODa_zones_luke_2023_nn.myrmidon\n"
     ]
    },
    {
     "name": "stderr",
     "output_type": "stream",
     "text": [
      "Computing ant interactions: 100%|█▉| 1439/1440 [00:36<00:00, 38.93tracked min/s]\n",
      "Colliding frames: 100%|███████████▉| 1439/1440 [00:36<00:00, 39.37tracked min/s]\n"
     ]
    },
    {
     "name": "stdout",
     "output_type": "stream",
     "text": [
      "EG_NTM_s14_MODb_zones_luke_2023_nn.myrmidon\n"
     ]
    },
    {
     "name": "stderr",
     "output_type": "stream",
     "text": [
      "Computing ant interactions: 100%|█▉| 1439/1440 [00:37<00:00, 37.89tracked min/s]\n",
      "Colliding frames: 100%|███████████▉| 1439/1440 [00:34<00:00, 42.19tracked min/s]\n"
     ]
    },
    {
     "name": "stdout",
     "output_type": "stream",
     "text": [
      "EG_NTM_s15_DENa_zones_luke_2023_nn.myrmidon\n"
     ]
    },
    {
     "name": "stderr",
     "output_type": "stream",
     "text": [
      "Computing ant interactions: 100%|█▉| 1439/1440 [00:37<00:00, 38.42tracked min/s]\n",
      "Colliding frames: 100%|███████████▉| 1439/1440 [00:35<00:00, 41.04tracked min/s]\n"
     ]
    },
    {
     "name": "stdout",
     "output_type": "stream",
     "text": [
      "EG_NTM_s15_DENb_zones_luke_2023_nn.myrmidon\n"
     ]
    },
    {
     "name": "stderr",
     "output_type": "stream",
     "text": [
      "Computing ant interactions: 100%|█▉| 1439/1440 [00:38<00:00, 37.68tracked min/s]\n",
      "Colliding frames: 100%|███████████▉| 1439/1440 [00:38<00:00, 37.63tracked min/s]\n"
     ]
    },
    {
     "name": "stdout",
     "output_type": "stream",
     "text": [
      "EG_NTM_s16_DIAa_zones_luke_2023_nn.myrmidon\n"
     ]
    },
    {
     "name": "stderr",
     "output_type": "stream",
     "text": [
      "Computing ant interactions: 100%|█▉| 1439/1440 [00:40<00:00, 35.51tracked min/s]\n",
      "Colliding frames: 100%|███████████▉| 1439/1440 [00:34<00:00, 41.69tracked min/s]\n"
     ]
    },
    {
     "name": "stdout",
     "output_type": "stream",
     "text": [
      "EG_NTM_s16_DIAb_zones_luke_2023_nn.myrmidon\n"
     ]
    },
    {
     "name": "stderr",
     "output_type": "stream",
     "text": [
      "Computing ant interactions: 100%|█▉| 1439/1440 [00:37<00:00, 37.98tracked min/s]\n",
      "Colliding frames: 100%|███████████▉| 1439/1440 [00:35<00:00, 40.33tracked min/s]\n"
     ]
    },
    {
     "name": "stdout",
     "output_type": "stream",
     "text": [
      "EG_NTM_s17_MODa_zones_luke_2023_nn.myrmidon\n"
     ]
    },
    {
     "name": "stderr",
     "output_type": "stream",
     "text": [
      "Computing ant interactions: 100%|█▉| 1439/1440 [00:37<00:00, 38.26tracked min/s]\n",
      "Colliding frames: 100%|███████████▉| 1439/1440 [00:34<00:00, 41.90tracked min/s]\n"
     ]
    },
    {
     "name": "stdout",
     "output_type": "stream",
     "text": [
      "EG_NTM_s17_MODb_zones_luke_2023_nn.myrmidon\n"
     ]
    },
    {
     "name": "stderr",
     "output_type": "stream",
     "text": [
      "Computing ant interactions: 100%|█▉| 1439/1440 [00:37<00:00, 38.10tracked min/s]\n",
      "Colliding frames: 100%|███████████▉| 1439/1440 [00:36<00:00, 39.94tracked min/s]\n"
     ]
    },
    {
     "name": "stdout",
     "output_type": "stream",
     "text": [
      "EG_NTM_s18_DENa_zones_luke_2023_nn.myrmidon\n"
     ]
    },
    {
     "name": "stderr",
     "output_type": "stream",
     "text": [
      "Computing ant interactions: 100%|█▉| 1439/1440 [00:37<00:00, 38.49tracked min/s]\n",
      "Colliding frames: 100%|███████████▉| 1439/1440 [00:31<00:00, 45.61tracked min/s]\n"
     ]
    },
    {
     "name": "stdout",
     "output_type": "stream",
     "text": [
      "EG_NTM_s18_DENb_zones_luke_2023_nn.myrmidon\n"
     ]
    },
    {
     "name": "stderr",
     "output_type": "stream",
     "text": [
      "Computing ant interactions: 100%|█▉| 1439/1440 [00:34<00:00, 41.96tracked min/s]\n",
      "Colliding frames: 100%|███████████▉| 1439/1440 [00:33<00:00, 43.28tracked min/s]\n"
     ]
    },
    {
     "name": "stdout",
     "output_type": "stream",
     "text": [
      "EG_NTM_s19_DIAa_zones_luke_2023_nn.myrmidon\n"
     ]
    },
    {
     "name": "stderr",
     "output_type": "stream",
     "text": [
      "Computing ant interactions: 100%|█▉| 1439/1440 [00:34<00:00, 41.40tracked min/s]\n",
      "Colliding frames: 100%|███████████▉| 1439/1440 [00:32<00:00, 44.69tracked min/s]\n"
     ]
    },
    {
     "name": "stdout",
     "output_type": "stream",
     "text": [
      "EG_NTM_s19_DIAb_zones_luke_2023_nn.myrmidon\n"
     ]
    },
    {
     "name": "stderr",
     "output_type": "stream",
     "text": [
      "Computing ant interactions: 100%|█▉| 1439/1440 [00:36<00:00, 39.26tracked min/s]\n",
      "Colliding frames: 100%|███████████▉| 1439/1440 [00:34<00:00, 42.13tracked min/s]\n"
     ]
    },
    {
     "name": "stdout",
     "output_type": "stream",
     "text": [
      "EG_NTM_s20_DEHa_zones_luke_2023_nn.myrmidon\n"
     ]
    },
    {
     "name": "stderr",
     "output_type": "stream",
     "text": [
      "Computing ant interactions: 100%|█▉| 1439/1440 [00:37<00:00, 38.72tracked min/s]\n",
      "Colliding frames: 100%|███████████▉| 1439/1440 [00:33<00:00, 43.50tracked min/s]\n"
     ]
    },
    {
     "name": "stdout",
     "output_type": "stream",
     "text": [
      "EG_NTM_s20_DEHb_zones_luke_2023_nn.myrmidon\n"
     ]
    },
    {
     "name": "stderr",
     "output_type": "stream",
     "text": [
      "Computing ant interactions: 100%|█▉| 1439/1440 [00:32<00:00, 44.73tracked min/s]\n",
      "Colliding frames: 100%|███████████▉| 1439/1440 [00:28<00:00, 49.85tracked min/s]\n"
     ]
    },
    {
     "name": "stdout",
     "output_type": "stream",
     "text": [
      "EG_NTM_s21_DIAa_zones_luke_2023_nn.myrmidon\n"
     ]
    },
    {
     "name": "stderr",
     "output_type": "stream",
     "text": [
      "Computing ant interactions: 100%|█▉| 1439/1440 [00:38<00:00, 37.45tracked min/s]\n",
      "Colliding frames: 100%|███████████▉| 1439/1440 [00:38<00:00, 37.61tracked min/s]\n"
     ]
    },
    {
     "name": "stdout",
     "output_type": "stream",
     "text": [
      "EG_NTM_s21_DIAb_zones_luke_2023_nn.myrmidon\n"
     ]
    },
    {
     "name": "stderr",
     "output_type": "stream",
     "text": [
      "Computing ant interactions: 100%|█▉| 1439/1440 [00:40<00:00, 35.53tracked min/s]\n",
      "Colliding frames: 100%|███████████▉| 1439/1440 [00:34<00:00, 41.23tracked min/s]\n"
     ]
    },
    {
     "name": "stdout",
     "output_type": "stream",
     "text": [
      "EG_NTM_s22_MODa_zones_luke_2023_nn.myrmidon\n"
     ]
    },
    {
     "name": "stderr",
     "output_type": "stream",
     "text": [
      "Computing ant interactions: 100%|█▉| 1439/1440 [00:39<00:00, 36.30tracked min/s]\n",
      "Colliding frames: 100%|███████████▉| 1439/1440 [00:35<00:00, 40.21tracked min/s]\n"
     ]
    },
    {
     "name": "stdout",
     "output_type": "stream",
     "text": [
      "EG_NTM_s22_MODb_zones_luke_2023_nn.myrmidon\n"
     ]
    },
    {
     "name": "stderr",
     "output_type": "stream",
     "text": [
      "Computing ant interactions: 100%|█▉| 1439/1440 [00:38<00:00, 37.69tracked min/s]\n",
      "Colliding frames: 100%|███████████▉| 1439/1440 [00:35<00:00, 40.94tracked min/s]\n"
     ]
    },
    {
     "name": "stdout",
     "output_type": "stream",
     "text": [
      "EG_NTM_s23_DENa_zones_luke_2023_nn.myrmidon\n"
     ]
    },
    {
     "name": "stderr",
     "output_type": "stream",
     "text": [
      "Computing ant interactions: 100%|█▉| 1439/1440 [00:41<00:00, 34.70tracked min/s]\n",
      "Colliding frames: 100%|███████████▉| 1439/1440 [00:39<00:00, 36.51tracked min/s]\n"
     ]
    },
    {
     "name": "stdout",
     "output_type": "stream",
     "text": [
      "EG_NTM_s23_DENb_zones_luke_2023_nn.myrmidon\n"
     ]
    },
    {
     "name": "stderr",
     "output_type": "stream",
     "text": [
      "Computing ant interactions: 100%|█▉| 1439/1440 [00:39<00:00, 36.67tracked min/s]\n",
      "Colliding frames: 100%|███████████▉| 1439/1440 [00:34<00:00, 41.82tracked min/s]\n"
     ]
    },
    {
     "name": "stdout",
     "output_type": "stream",
     "text": [
      "EG_NTM_s24_DEHa_zones_luke_2023_nn.myrmidon\n"
     ]
    },
    {
     "name": "stderr",
     "output_type": "stream",
     "text": [
      "Computing ant interactions: 100%|█▉| 1439/1440 [00:40<00:00, 35.92tracked min/s]\n",
      "Colliding frames: 100%|███████████▉| 1439/1440 [00:38<00:00, 37.62tracked min/s]\n"
     ]
    },
    {
     "name": "stdout",
     "output_type": "stream",
     "text": [
      "EG_NTM_s24_DEHb_zones_luke_2023_nn.myrmidon\n"
     ]
    },
    {
     "name": "stderr",
     "output_type": "stream",
     "text": [
      "Computing ant interactions: 100%|█▉| 1439/1440 [00:44<00:00, 32.63tracked min/s]\n",
      "Colliding frames: 100%|███████████▉| 1439/1440 [00:36<00:00, 39.18tracked min/s]\n"
     ]
    },
    {
     "name": "stdout",
     "output_type": "stream",
     "text": [
      "EG_NTM_s25_DEHa_zones_luke_2023_nn.myrmidon\n"
     ]
    },
    {
     "name": "stderr",
     "output_type": "stream",
     "text": [
      "Computing ant interactions: 100%|█▉| 1439/1440 [00:41<00:00, 34.45tracked min/s]\n",
      "Colliding frames: 100%|███████████▉| 1439/1440 [00:38<00:00, 37.12tracked min/s]\n"
     ]
    },
    {
     "name": "stdout",
     "output_type": "stream",
     "text": [
      "EG_NTM_s25_DEHb_zones_luke_2023_nn.myrmidon\n"
     ]
    },
    {
     "name": "stderr",
     "output_type": "stream",
     "text": [
      "Computing ant interactions: 100%|█▉| 1439/1440 [00:37<00:00, 37.90tracked min/s]\n",
      "Colliding frames: 100%|███████████▉| 1439/1440 [00:33<00:00, 42.32tracked min/s]\n"
     ]
    },
    {
     "name": "stdout",
     "output_type": "stream",
     "text": [
      "EG_NTM_s26_DENa_zones_luke_2023_nn.myrmidon\n"
     ]
    },
    {
     "name": "stderr",
     "output_type": "stream",
     "text": [
      "Computing ant interactions: 100%|█▉| 1439/1440 [00:36<00:00, 39.24tracked min/s]\n",
      "Colliding frames: 100%|███████████▉| 1439/1440 [00:37<00:00, 38.69tracked min/s]\n"
     ]
    },
    {
     "name": "stdout",
     "output_type": "stream",
     "text": [
      "EG_NTM_s26_DENb_zones_luke_2023_nn.myrmidon\n"
     ]
    },
    {
     "name": "stderr",
     "output_type": "stream",
     "text": [
      "Computing ant interactions: 100%|█▉| 1439/1440 [00:39<00:00, 36.58tracked min/s]\n",
      "Colliding frames: 100%|███████████▉| 1439/1440 [00:35<00:00, 41.05tracked min/s]\n"
     ]
    },
    {
     "name": "stdout",
     "output_type": "stream",
     "text": [
      "EG_NTM_s27_MODa_zones_luke_2023_nn.myrmidon\n"
     ]
    },
    {
     "name": "stderr",
     "output_type": "stream",
     "text": [
      "Computing ant interactions: 100%|█▉| 1439/1440 [00:39<00:00, 36.62tracked min/s]\n",
      "Colliding frames: 100%|███████████▉| 1439/1440 [00:38<00:00, 37.81tracked min/s]\n"
     ]
    },
    {
     "name": "stdout",
     "output_type": "stream",
     "text": [
      "EG_NTM_s27_MODb_zones_luke_2023_nn.myrmidon\n"
     ]
    },
    {
     "name": "stderr",
     "output_type": "stream",
     "text": [
      "Computing ant interactions: 100%|█▉| 1439/1440 [00:41<00:00, 34.48tracked min/s]\n",
      "Colliding frames: 100%|███████████▉| 1439/1440 [00:34<00:00, 41.32tracked min/s]\n"
     ]
    },
    {
     "name": "stdout",
     "output_type": "stream",
     "text": [
      "EG_NTM_s28_DIAa_zones_luke_2023_nn.myrmidon\n"
     ]
    },
    {
     "name": "stderr",
     "output_type": "stream",
     "text": [
      "Computing ant interactions: 100%|█▉| 1439/1440 [00:38<00:00, 37.64tracked min/s]\n",
      "Colliding frames: 100%|███████████▉| 1439/1440 [00:35<00:00, 40.48tracked min/s]\n"
     ]
    },
    {
     "name": "stdout",
     "output_type": "stream",
     "text": [
      "EG_NTM_s28_DIAb_zones_luke_2023_nn.myrmidon\n"
     ]
    },
    {
     "name": "stderr",
     "output_type": "stream",
     "text": [
      "Computing ant interactions: 100%|█▉| 1439/1440 [00:39<00:00, 36.17tracked min/s]\n",
      "Colliding frames: 100%|███████████▉| 1439/1440 [00:35<00:00, 41.08tracked min/s]\n"
     ]
    },
    {
     "name": "stdout",
     "output_type": "stream",
     "text": [
      "EG_NTM_s29_DENa_zones_luke_2023_nn.myrmidon\n"
     ]
    },
    {
     "name": "stderr",
     "output_type": "stream",
     "text": [
      "Computing ant interactions: 100%|█▉| 1439/1440 [00:40<00:00, 35.72tracked min/s]\n",
      "Colliding frames: 100%|███████████▉| 1439/1440 [00:37<00:00, 38.32tracked min/s]\n"
     ]
    },
    {
     "name": "stdout",
     "output_type": "stream",
     "text": [
      "EG_NTM_s29_DENb_zones_luke_2023_nn.myrmidon\n"
     ]
    },
    {
     "name": "stderr",
     "output_type": "stream",
     "text": [
      "Computing ant interactions: 100%|█▉| 1439/1440 [00:41<00:00, 34.86tracked min/s]\n",
      "Colliding frames: 100%|███████████▉| 1439/1440 [00:35<00:00, 40.49tracked min/s]\n"
     ]
    },
    {
     "name": "stdout",
     "output_type": "stream",
     "text": [
      "EG_NTM_s30_MODa_zones_luke_2023_nn.myrmidon\n"
     ]
    },
    {
     "name": "stderr",
     "output_type": "stream",
     "text": [
      "Computing ant interactions: 100%|█▉| 1439/1440 [00:38<00:00, 37.51tracked min/s]\n",
      "Colliding frames: 100%|███████████▉| 1439/1440 [00:37<00:00, 38.77tracked min/s]\n"
     ]
    },
    {
     "name": "stdout",
     "output_type": "stream",
     "text": [
      "EG_NTM_s30_MODb_zones_luke_2023_nn.myrmidon\n"
     ]
    },
    {
     "name": "stderr",
     "output_type": "stream",
     "text": [
      "Computing ant interactions: 100%|█▉| 1439/1440 [00:40<00:00, 35.37tracked min/s]\n",
      "Colliding frames: 100%|███████████▉| 1439/1440 [00:34<00:00, 41.16tracked min/s]\n"
     ]
    },
    {
     "name": "stdout",
     "output_type": "stream",
     "text": [
      "EG_NTM_s31_DEHa_zones_luke_2023_nn.myrmidon\n"
     ]
    },
    {
     "name": "stderr",
     "output_type": "stream",
     "text": [
      "Computing ant interactions: 100%|█▉| 1439/1440 [00:37<00:00, 38.86tracked min/s]\n",
      "Colliding frames: 100%|███████████▉| 1439/1440 [00:35<00:00, 40.11tracked min/s]\n"
     ]
    },
    {
     "name": "stdout",
     "output_type": "stream",
     "text": [
      "EG_NTM_s31_DEHb_zones_luke_2023_nn.myrmidon\n"
     ]
    },
    {
     "name": "stderr",
     "output_type": "stream",
     "text": [
      "Computing ant interactions: 100%|█▉| 1439/1440 [00:36<00:00, 39.36tracked min/s]\n",
      "Colliding frames: 100%|███████████▉| 1439/1440 [00:32<00:00, 44.54tracked min/s]\n"
     ]
    },
    {
     "name": "stdout",
     "output_type": "stream",
     "text": [
      "EG_NTM_s32_DIAa_zones_luke_2023_nn.myrmidon\n"
     ]
    },
    {
     "name": "stderr",
     "output_type": "stream",
     "text": [
      "Computing ant interactions: 100%|█▉| 1439/1440 [00:35<00:00, 40.01tracked min/s]\n",
      "Colliding frames: 100%|███████████▉| 1439/1440 [00:35<00:00, 40.98tracked min/s]\n"
     ]
    },
    {
     "name": "stdout",
     "output_type": "stream",
     "text": [
      "EG_NTM_s32_DIAb_zones_luke_2023_nn.myrmidon\n"
     ]
    },
    {
     "name": "stderr",
     "output_type": "stream",
     "text": [
      "Computing ant interactions: 100%|█▉| 1439/1440 [00:38<00:00, 37.81tracked min/s]\n",
      "Colliding frames: 100%|███████████▉| 1439/1440 [00:33<00:00, 43.48tracked min/s]\n"
     ]
    },
    {
     "name": "stdout",
     "output_type": "stream",
     "text": [
      "EG_NTM_s33_MODa_zones_luke_2023_nn.myrmidon\n"
     ]
    },
    {
     "name": "stderr",
     "output_type": "stream",
     "text": [
      "Computing ant interactions: 100%|█▉| 1439/1440 [00:36<00:00, 39.39tracked min/s]\n",
      "Colliding frames: 100%|███████████▉| 1439/1440 [00:32<00:00, 43.88tracked min/s]\n"
     ]
    },
    {
     "name": "stdout",
     "output_type": "stream",
     "text": [
      "EG_NTM_s33_MODb_zones_luke_2023_nn.myrmidon\n"
     ]
    },
    {
     "name": "stderr",
     "output_type": "stream",
     "text": [
      "Computing ant interactions: 100%|█▉| 1439/1440 [00:33<00:00, 43.10tracked min/s]\n",
      "Colliding frames: 100%|███████████▉| 1439/1440 [00:32<00:00, 43.83tracked min/s]\n"
     ]
    },
    {
     "name": "stdout",
     "output_type": "stream",
     "text": [
      "EG_NTM_s34_DEHa_zones_luke_2023_nn.myrmidon\n"
     ]
    },
    {
     "name": "stderr",
     "output_type": "stream",
     "text": [
      "Computing ant interactions: 100%|█▉| 1439/1440 [00:34<00:00, 41.89tracked min/s]\n",
      "Colliding frames: 100%|███████████▉| 1439/1440 [00:30<00:00, 46.79tracked min/s]\n"
     ]
    },
    {
     "name": "stdout",
     "output_type": "stream",
     "text": [
      "EG_NTM_s34_DEHb_zones_luke_2023_nn.myrmidon\n"
     ]
    },
    {
     "name": "stderr",
     "output_type": "stream",
     "text": [
      "Computing ant interactions: 100%|█▉| 1439/1440 [00:27<00:00, 51.62tracked min/s]\n",
      "Colliding frames: 100%|███████████▉| 1439/1440 [00:27<00:00, 51.95tracked min/s]\n"
     ]
    },
    {
     "name": "stdout",
     "output_type": "stream",
     "text": [
      "EG_NTM_s35_DIAa_zones_luke_2023_nn.myrmidon\n"
     ]
    },
    {
     "name": "stderr",
     "output_type": "stream",
     "text": [
      "Computing ant interactions: 100%|█▉| 1439/1440 [00:38<00:00, 36.95tracked min/s]\n",
      "Colliding frames: 100%|███████████▉| 1439/1440 [00:34<00:00, 41.95tracked min/s]\n"
     ]
    },
    {
     "name": "stdout",
     "output_type": "stream",
     "text": [
      "EG_NTM_s35_DIAb_zones_luke_2023_nn.myrmidon\n"
     ]
    },
    {
     "name": "stderr",
     "output_type": "stream",
     "text": [
      "Computing ant interactions: 100%|█▉| 1439/1440 [00:36<00:00, 39.24tracked min/s]\n",
      "Colliding frames: 100%|███████████▉| 1439/1440 [00:32<00:00, 44.68tracked min/s]\n"
     ]
    },
    {
     "name": "stdout",
     "output_type": "stream",
     "text": [
      "EG_NTM_s36_DENa_zones_luke_2023_nn.myrmidon\n"
     ]
    },
    {
     "name": "stderr",
     "output_type": "stream",
     "text": [
      "Computing ant interactions: 100%|█▉| 1439/1440 [00:37<00:00, 38.79tracked min/s]\n",
      "Colliding frames: 100%|███████████▉| 1439/1440 [00:35<00:00, 40.75tracked min/s]\n"
     ]
    },
    {
     "name": "stdout",
     "output_type": "stream",
     "text": [
      "EG_NTM_s36_DENb_zones_luke_2023_nn.myrmidon\n"
     ]
    },
    {
     "name": "stderr",
     "output_type": "stream",
     "text": [
      "Computing ant interactions: 100%|█▉| 1439/1440 [00:36<00:00, 39.33tracked min/s]\n",
      "Colliding frames: 100%|███████████▉| 1439/1440 [00:32<00:00, 44.09tracked min/s]\n"
     ]
    },
    {
     "name": "stdout",
     "output_type": "stream",
     "text": [
      "EG_NTM_s37_DIAa_zones_luke_2023_nn.myrmidon\n"
     ]
    },
    {
     "name": "stderr",
     "output_type": "stream",
     "text": [
      "Computing ant interactions: 100%|█▉| 1439/1440 [00:38<00:00, 37.24tracked min/s]\n",
      "Colliding frames: 100%|███████████▉| 1439/1440 [00:35<00:00, 40.48tracked min/s]\n"
     ]
    },
    {
     "name": "stdout",
     "output_type": "stream",
     "text": [
      "EG_NTM_s37_DIAb_zones_luke_2023_nn.myrmidon\n"
     ]
    },
    {
     "name": "stderr",
     "output_type": "stream",
     "text": [
      "Computing ant interactions: 100%|█▉| 1439/1440 [00:41<00:00, 34.64tracked min/s]\n",
      "Colliding frames: 100%|███████████▉| 1439/1440 [00:39<00:00, 36.29tracked min/s]\n"
     ]
    },
    {
     "name": "stdout",
     "output_type": "stream",
     "text": [
      "EG_NTM_s38_DEHa_zones_luke_2023_nn.myrmidon\n"
     ]
    },
    {
     "name": "stderr",
     "output_type": "stream",
     "text": [
      "Computing ant interactions: 100%|█▉| 1439/1440 [00:35<00:00, 40.11tracked min/s]\n",
      "Colliding frames: 100%|███████████▉| 1439/1440 [00:31<00:00, 45.08tracked min/s]\n"
     ]
    },
    {
     "name": "stdout",
     "output_type": "stream",
     "text": [
      "EG_NTM_s38_DEHb_zones_luke_2023_nn.myrmidon\n"
     ]
    },
    {
     "name": "stderr",
     "output_type": "stream",
     "text": [
      "Computing ant interactions: 100%|█▉| 1439/1440 [00:37<00:00, 38.56tracked min/s]\n",
      "Colliding frames: 100%|███████████▉| 1439/1440 [00:32<00:00, 43.91tracked min/s]\n"
     ]
    },
    {
     "name": "stdout",
     "output_type": "stream",
     "text": [
      "EG_NTM_s39_DENa_zones_luke_2023_nn.myrmidon\n"
     ]
    },
    {
     "name": "stderr",
     "output_type": "stream",
     "text": [
      "Computing ant interactions: 100%|█▉| 1439/1440 [00:42<00:00, 33.48tracked min/s]\n",
      "Colliding frames: 100%|███████████▉| 1439/1440 [00:39<00:00, 36.56tracked min/s]\n"
     ]
    },
    {
     "name": "stdout",
     "output_type": "stream",
     "text": [
      "EG_NTM_s39_DENb_zones_luke_2023_nn.myrmidon\n"
     ]
    },
    {
     "name": "stderr",
     "output_type": "stream",
     "text": [
      "Computing ant interactions: 100%|█▉| 1439/1440 [00:42<00:00, 33.98tracked min/s]\n",
      "Colliding frames: 100%|███████████▉| 1439/1440 [00:36<00:00, 39.38tracked min/s]\n"
     ]
    },
    {
     "name": "stdout",
     "output_type": "stream",
     "text": [
      "EG_NTM_s40_MODa_zones_luke_2023_nn.myrmidon\n"
     ]
    },
    {
     "name": "stderr",
     "output_type": "stream",
     "text": [
      "Computing ant interactions: 100%|█▉| 1439/1440 [00:38<00:00, 37.06tracked min/s]\n",
      "Colliding frames: 100%|███████████▉| 1439/1440 [00:40<00:00, 35.23tracked min/s]\n"
     ]
    },
    {
     "name": "stdout",
     "output_type": "stream",
     "text": [
      "EG_NTM_s40_MODb_zones_luke_2023_nn.myrmidon\n"
     ]
    },
    {
     "name": "stderr",
     "output_type": "stream",
     "text": [
      "Computing ant interactions: 100%|█▉| 1439/1440 [00:40<00:00, 35.53tracked min/s]\n",
      "Colliding frames: 100%|███████████▉| 1439/1440 [00:35<00:00, 40.16tracked min/s]\n"
     ]
    },
    {
     "name": "stdout",
     "output_type": "stream",
     "text": [
      "EG_NTM_s42_DIAa_zones_luke_2023_nn.myrmidon\n"
     ]
    },
    {
     "name": "stderr",
     "output_type": "stream",
     "text": [
      "Computing ant interactions: 100%|█▉| 1439/1440 [00:37<00:00, 37.93tracked min/s]\n",
      "Colliding frames: 100%|███████████▉| 1439/1440 [00:33<00:00, 43.04tracked min/s]\n"
     ]
    },
    {
     "name": "stdout",
     "output_type": "stream",
     "text": [
      "EG_NTM_s42_DIAb_zones_luke_2023_nn.myrmidon\n"
     ]
    },
    {
     "name": "stderr",
     "output_type": "stream",
     "text": [
      "Computing ant interactions: 100%|█▉| 1439/1440 [00:38<00:00, 37.61tracked min/s]\n",
      "Colliding frames: 100%|███████████▉| 1439/1440 [00:31<00:00, 46.41tracked min/s]\n"
     ]
    },
    {
     "name": "stdout",
     "output_type": "stream",
     "text": [
      "EG_NTM_s43_DENa_zones_luke_2023_nn.myrmidon\n"
     ]
    },
    {
     "name": "stderr",
     "output_type": "stream",
     "text": [
      "Computing ant interactions: 100%|█▉| 1439/1440 [00:38<00:00, 37.82tracked min/s]\n",
      "Colliding frames: 100%|███████████▉| 1439/1440 [00:35<00:00, 40.92tracked min/s]\n"
     ]
    },
    {
     "name": "stdout",
     "output_type": "stream",
     "text": [
      "EG_NTM_s43_DENb_zones_luke_2023_nn.myrmidon\n"
     ]
    },
    {
     "name": "stderr",
     "output_type": "stream",
     "text": [
      "Computing ant interactions: 100%|█▉| 1439/1440 [00:38<00:00, 37.82tracked min/s]\n",
      "Colliding frames: 100%|███████████▉| 1439/1440 [00:34<00:00, 42.13tracked min/s]\n"
     ]
    },
    {
     "name": "stdout",
     "output_type": "stream",
     "text": [
      "EG_NTM_s44_MODa_zones_luke_2023_nn.myrmidon\n"
     ]
    },
    {
     "name": "stderr",
     "output_type": "stream",
     "text": [
      "Computing ant interactions: 100%|█▉| 1439/1440 [00:36<00:00, 39.01tracked min/s]\n",
      "Colliding frames: 100%|███████████▉| 1439/1440 [00:37<00:00, 38.50tracked min/s]\n"
     ]
    },
    {
     "name": "stdout",
     "output_type": "stream",
     "text": [
      "EG_NTM_s44_MODb_zones_luke_2023_nn.myrmidon\n"
     ]
    },
    {
     "name": "stderr",
     "output_type": "stream",
     "text": [
      "Computing ant interactions: 100%|█▉| 1439/1440 [00:38<00:00, 37.40tracked min/s]\n",
      "Colliding frames: 100%|███████████▉| 1439/1440 [00:33<00:00, 43.02tracked min/s]\n"
     ]
    },
    {
     "name": "stdout",
     "output_type": "stream",
     "text": [
      "EG_NTM_s45_DENa_zones_luke_2023_nn.myrmidon\n"
     ]
    },
    {
     "name": "stderr",
     "output_type": "stream",
     "text": [
      "Computing ant interactions: 100%|█▉| 1439/1440 [00:35<00:00, 39.98tracked min/s]\n",
      "Colliding frames: 100%|███████████▉| 1439/1440 [00:32<00:00, 44.85tracked min/s]\n"
     ]
    },
    {
     "name": "stdout",
     "output_type": "stream",
     "text": [
      "EG_NTM_s45_DENb_zones_luke_2023_nn.myrmidon\n"
     ]
    },
    {
     "name": "stderr",
     "output_type": "stream",
     "text": [
      "Computing ant interactions: 100%|█▉| 1439/1440 [00:39<00:00, 36.75tracked min/s]\n",
      "Colliding frames: 100%|███████████▉| 1439/1440 [00:32<00:00, 44.15tracked min/s]\n"
     ]
    },
    {
     "name": "stdout",
     "output_type": "stream",
     "text": [
      "EG_NTM_s46_DIAa_zones_luke_2023_nn.myrmidon\n"
     ]
    },
    {
     "name": "stderr",
     "output_type": "stream",
     "text": [
      "Computing ant interactions: 100%|█▉| 1439/1440 [00:38<00:00, 37.31tracked min/s]\n",
      "Colliding frames: 100%|███████████▉| 1439/1440 [00:35<00:00, 40.30tracked min/s]\n"
     ]
    },
    {
     "name": "stdout",
     "output_type": "stream",
     "text": [
      "EG_NTM_s46_DIAb_zones_luke_2023_nn.myrmidon\n"
     ]
    },
    {
     "name": "stderr",
     "output_type": "stream",
     "text": [
      "Computing ant interactions: 100%|█▉| 1439/1440 [00:35<00:00, 41.03tracked min/s]\n",
      "Colliding frames: 100%|███████████▉| 1439/1440 [00:30<00:00, 47.68tracked min/s]\n"
     ]
    },
    {
     "name": "stdout",
     "output_type": "stream",
     "text": [
      "EG_NTM_s47_DEHa_zones_luke_2023_nn.myrmidon\n"
     ]
    },
    {
     "name": "stderr",
     "output_type": "stream",
     "text": [
      "Computing ant interactions: 100%|█▉| 1439/1440 [00:38<00:00, 37.11tracked min/s]\n",
      "Colliding frames: 100%|███████████▉| 1439/1440 [00:37<00:00, 37.96tracked min/s]\n"
     ]
    },
    {
     "name": "stdout",
     "output_type": "stream",
     "text": [
      "EG_NTM_s47_DEHb_zones_luke_2023_nn.myrmidon\n"
     ]
    },
    {
     "name": "stderr",
     "output_type": "stream",
     "text": [
      "Computing ant interactions: 100%|█▉| 1439/1440 [00:39<00:00, 36.60tracked min/s]\n",
      "Colliding frames: 100%|███████████▉| 1439/1440 [00:35<00:00, 40.20tracked min/s]\n"
     ]
    },
    {
     "name": "stdout",
     "output_type": "stream",
     "text": [
      "EG_NTM_s48_MODa_zones_luke_2023_nn.myrmidon\n"
     ]
    },
    {
     "name": "stderr",
     "output_type": "stream",
     "text": [
      "Computing ant interactions: 100%|█▉| 1439/1440 [00:41<00:00, 34.66tracked min/s]\n",
      "Colliding frames: 100%|███████████▉| 1439/1440 [00:32<00:00, 43.86tracked min/s]\n"
     ]
    },
    {
     "name": "stdout",
     "output_type": "stream",
     "text": [
      "EG_NTM_s48_MODb_zones_luke_2023_nn.myrmidon\n"
     ]
    },
    {
     "name": "stderr",
     "output_type": "stream",
     "text": [
      "Computing ant interactions: 100%|█▉| 1439/1440 [00:38<00:00, 36.99tracked min/s]\n",
      "Colliding frames: 100%|███████████▉| 1439/1440 [00:35<00:00, 40.72tracked min/s]\n"
     ]
    },
    {
     "name": "stdout",
     "output_type": "stream",
     "text": [
      "EG_NTM_s49_MODa_zones_luke_2023_nn.myrmidon\n"
     ]
    },
    {
     "name": "stderr",
     "output_type": "stream",
     "text": [
      "Computing ant interactions: 100%|█▉| 1439/1440 [00:36<00:00, 39.49tracked min/s]\n",
      "Colliding frames: 100%|███████████▉| 1439/1440 [00:34<00:00, 41.22tracked min/s]\n"
     ]
    },
    {
     "name": "stdout",
     "output_type": "stream",
     "text": [
      "EG_NTM_s49_MODb_zones_luke_2023_nn.myrmidon\n"
     ]
    },
    {
     "name": "stderr",
     "output_type": "stream",
     "text": [
      "Computing ant interactions: 100%|█▉| 1439/1440 [00:36<00:00, 39.73tracked min/s]\n",
      "Colliding frames: 100%|███████████▉| 1439/1440 [00:31<00:00, 45.67tracked min/s]\n"
     ]
    },
    {
     "name": "stdout",
     "output_type": "stream",
     "text": [
      "EG_NTM_s50_DIAa_zones_luke_2023_nn.myrmidon\n"
     ]
    },
    {
     "name": "stderr",
     "output_type": "stream",
     "text": [
      "Computing ant interactions: 100%|█▉| 1439/1440 [00:33<00:00, 43.27tracked min/s]\n",
      "Colliding frames: 100%|███████████▉| 1439/1440 [00:30<00:00, 47.90tracked min/s]\n"
     ]
    },
    {
     "name": "stdout",
     "output_type": "stream",
     "text": [
      "EG_NTM_s50_DIAb_zones_luke_2023_nn.myrmidon\n"
     ]
    },
    {
     "name": "stderr",
     "output_type": "stream",
     "text": [
      "Computing ant interactions: 100%|█▉| 1439/1440 [00:31<00:00, 45.22tracked min/s]\n",
      "Colliding frames: 100%|███████████▉| 1439/1440 [00:29<00:00, 48.01tracked min/s]\n"
     ]
    },
    {
     "name": "stdout",
     "output_type": "stream",
     "text": [
      "EG_NTM_s51_DEHa_zones_luke_2023_nn.myrmidon\n"
     ]
    },
    {
     "name": "stderr",
     "output_type": "stream",
     "text": [
      "Computing ant interactions: 100%|█▉| 1439/1440 [00:35<00:00, 40.53tracked min/s]\n",
      "Colliding frames: 100%|███████████▉| 1439/1440 [00:34<00:00, 41.26tracked min/s]\n"
     ]
    },
    {
     "name": "stdout",
     "output_type": "stream",
     "text": [
      "EG_NTM_s51_DEHb_zones_luke_2023_nn.myrmidon\n"
     ]
    },
    {
     "name": "stderr",
     "output_type": "stream",
     "text": [
      "Computing ant interactions: 100%|█▉| 1439/1440 [00:37<00:00, 38.83tracked min/s]\n",
      "Colliding frames: 100%|███████████▉| 1439/1440 [00:31<00:00, 46.27tracked min/s]\n"
     ]
    },
    {
     "name": "stdout",
     "output_type": "stream",
     "text": [
      "EG_NTM_s52_DENa_zones_luke_2023_nn.myrmidon\n"
     ]
    },
    {
     "name": "stderr",
     "output_type": "stream",
     "text": [
      "Computing ant interactions: 100%|█▉| 1439/1440 [00:36<00:00, 39.46tracked min/s]\n",
      "Colliding frames: 100%|███████████▉| 1439/1440 [00:35<00:00, 40.64tracked min/s]\n"
     ]
    },
    {
     "name": "stdout",
     "output_type": "stream",
     "text": [
      "EG_NTM_s52_DENb_zones_luke_2023_nn.myrmidon\n"
     ]
    },
    {
     "name": "stderr",
     "output_type": "stream",
     "text": [
      "Computing ant interactions: 100%|█▉| 1439/1440 [00:34<00:00, 41.46tracked min/s]\n",
      "Colliding frames: 100%|███████████▉| 1439/1440 [00:32<00:00, 43.82tracked min/s]\n"
     ]
    },
    {
     "name": "stdout",
     "output_type": "stream",
     "text": [
      "EG_NTM_s53_DIAa_zones_luke_2023_nn.myrmidon\n"
     ]
    },
    {
     "name": "stderr",
     "output_type": "stream",
     "text": [
      "Computing ant interactions: 100%|█▉| 1439/1440 [00:34<00:00, 41.67tracked min/s]\n",
      "Colliding frames: 100%|███████████▉| 1439/1440 [00:30<00:00, 47.38tracked min/s]\n"
     ]
    },
    {
     "name": "stdout",
     "output_type": "stream",
     "text": [
      "EG_NTM_s53_DIAb_zones_luke_2023_nn.myrmidon\n"
     ]
    },
    {
     "name": "stderr",
     "output_type": "stream",
     "text": [
      "Computing ant interactions: 100%|█▉| 1439/1440 [00:35<00:00, 40.87tracked min/s]\n",
      "Colliding frames: 100%|███████████▉| 1439/1440 [00:31<00:00, 45.28tracked min/s]\n"
     ]
    },
    {
     "name": "stdout",
     "output_type": "stream",
     "text": [
      "EG_NTM_s54_MODa_zones_luke_2023_nn.myrmidon\n"
     ]
    },
    {
     "name": "stderr",
     "output_type": "stream",
     "text": [
      "Computing ant interactions: 100%|█▉| 1439/1440 [00:33<00:00, 43.35tracked min/s]\n",
      "Colliding frames: 100%|███████████▉| 1439/1440 [00:29<00:00, 48.04tracked min/s]\n"
     ]
    },
    {
     "name": "stdout",
     "output_type": "stream",
     "text": [
      "EG_NTM_s54_MODb_zones_luke_2023_nn.myrmidon\n"
     ]
    },
    {
     "name": "stderr",
     "output_type": "stream",
     "text": [
      "Computing ant interactions: 100%|█▉| 1439/1440 [00:36<00:00, 38.90tracked min/s]\n",
      "Colliding frames: 100%|███████████▉| 1439/1440 [00:36<00:00, 39.85tracked min/s]\n"
     ]
    },
    {
     "name": "stdout",
     "output_type": "stream",
     "text": [
      "EG_NTM_s55_DEHa_zones_luke_2023_nn.myrmidon\n"
     ]
    },
    {
     "name": "stderr",
     "output_type": "stream",
     "text": [
      "Computing ant interactions: 100%|█▉| 1439/1440 [00:35<00:00, 40.02tracked min/s]\n",
      "Colliding frames: 100%|███████████▉| 1439/1440 [00:30<00:00, 47.95tracked min/s]\n"
     ]
    },
    {
     "name": "stdout",
     "output_type": "stream",
     "text": [
      "EG_NTM_s55_DEHb_zones_luke_2023_nn.myrmidon\n"
     ]
    },
    {
     "name": "stderr",
     "output_type": "stream",
     "text": [
      "Computing ant interactions: 100%|█▉| 1439/1440 [00:35<00:00, 40.82tracked min/s]\n",
      "Colliding frames: 100%|███████████▉| 1439/1440 [00:31<00:00, 46.07tracked min/s]\n"
     ]
    },
    {
     "name": "stdout",
     "output_type": "stream",
     "text": [
      "EG_NTM_s56_DENa_zones_luke_2023_nn.myrmidon\n"
     ]
    },
    {
     "name": "stderr",
     "output_type": "stream",
     "text": [
      "Computing ant interactions: 100%|█▉| 1439/1440 [00:34<00:00, 41.27tracked min/s]\n",
      "Colliding frames: 100%|███████████▉| 1439/1440 [00:32<00:00, 44.96tracked min/s]\n"
     ]
    },
    {
     "name": "stdout",
     "output_type": "stream",
     "text": [
      "EG_NTM_s56_DENb_zones_luke_2023_nn.myrmidon\n"
     ]
    },
    {
     "name": "stderr",
     "output_type": "stream",
     "text": [
      "Computing ant interactions: 100%|█▉| 1439/1440 [00:35<00:00, 40.01tracked min/s]\n",
      "Colliding frames: 100%|███████████▉| 1439/1440 [00:33<00:00, 42.95tracked min/s]\n"
     ]
    }
   ],
   "source": [
    "## ========= PARAMETERS========= \n",
    "# Frame rate\n",
    "save_df=False\n",
    "frm_rate = 6\n",
    "#how long to make the temporal network over\n",
    "hours_g=24\n",
    "# max gap for different interactions (s)\n",
    "max_gap = 10\n",
    "\n",
    "# minimum interaction weight (OPTIONAL, set=0 if not wanted)\n",
    "min_cum_duration = 0 \n",
    "\n",
    "# Read file with modes of communities number computed    \n",
    "#mode_communities_dic = pd.read_pickle(r'data/mode_communities.pkl')\n",
    "\n",
    "# ========= Edges weights type ==========\n",
    "# Decide what type of weight for the edges of the social network \n",
    "#     'length_inter': cumulative interaction time (s))    \n",
    "#     '#inter': number of interactions    \n",
    "#use length_inter for transmission\n",
    "link_type = '#inter'#'length_inter'\n",
    "\n",
    "# ========= Nest focus zone ==========\n",
    "# Set weather to only consider interactions happening within the nest zone\n",
    "#     'True': Nest only\n",
    "#     'False': All interactions considered\n",
    "nest_focus = True\n",
    "\n",
    "#data_saving_name = 'data/polish_data_test' + link_type + '_NF_F.pkl'\n",
    "\n",
    "if test_mode:\n",
    "    #myrm_list = [m for m in myrm_list if 'test' in m]\n",
    "    myrm_list = myrm_list[20:22]\n",
    "\n",
    "# Loop through the myrmidon files\n",
    "for myr in range(0, len(myrm_list)):\n",
    "    myrm_file=myrm_list[myr]\n",
    "    if int(myrm_file[8:10])==41 or int(myrm_file[8:10])<13: \n",
    "        continue\n",
    "    print(myrm_file)\n",
    "    exp = fm.Experiment.Open(working_dir + myrm_file)\n",
    "\n",
    "    start_date = (fm.Time.ToDateTime(fm.Query.GetDataInformations(exp).End) +\n",
    "                 timedelta(days = -1)).strftime(\"%Y-%m-%d\")\n",
    "\n",
    "    # ======== Total cumulative time window ========\n",
    "    # Define the start/end of the entire time window to be considered to the analysis\n",
    "    # ie from 9:00am of start_date to 9:00am of the following day\n",
    "    #for the temporal network we use the entire time window\n",
    "    start = fm.Time(datetime.fromisoformat(start_date + 'T09:00:00'))  \n",
    "    end = start.Add(fm.Duration(60 * 60 * hours_g * 10**9))\n",
    "    G, df = temporal_network(exp, start, end, min_cum_duration, frm_rate, link_type, nest_focus=nest_focus, save=False)\n",
    "    if link_type == 'length_inter':\n",
    "        nx.write_graphml(G, working_dir+'duration_temporal_networks/'+myrm_file+ \"_graph.xml\")\n",
    "    elif link_type == '#length':\n",
    "        nx.write_graphml(G, working_dir+'number_temporal_networks/'+myrm_file+ \"_graph.xml\")\n",
    "    if save_df:\n",
    "        df.to_csv(working_dir+'edge_lists/'+myrm_file+ \"_interactions.csv\")\n"
   ]
  },
  {
   "cell_type": "markdown",
   "id": "0e7c26a3",
   "metadata": {},
   "source": [
    "Very important if I correspond to spatial network that ant_ids-1"
   ]
  }
 ],
 "metadata": {
  "kernelspec": {
   "display_name": "Python 3 (ipykernel)",
   "language": "python",
   "name": "python3"
  },
  "language_info": {
   "codemirror_mode": {
    "name": "ipython",
    "version": 3
   },
   "file_extension": ".py",
   "mimetype": "text/x-python",
   "name": "python",
   "nbconvert_exporter": "python",
   "pygments_lexer": "ipython3",
   "version": "3.8.13"
  }
 },
 "nbformat": 4,
 "nbformat_minor": 5
}
